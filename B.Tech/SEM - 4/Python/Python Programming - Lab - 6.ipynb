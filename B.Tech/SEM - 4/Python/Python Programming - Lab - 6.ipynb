{
 "cells": [
  {
   "attachments": {},
   "cell_type": "markdown",
   "metadata": {},
   "source": [
    "<a href='https://www.darshan.ac.in/'> <img src='https://www.darshan.ac.in/Content/media/DU_Logo.svg' width=\"250\" height=\"300\"/></a>\n",
    "<pre>\n",
    "<center><b><h1>Python Programming - 2301CS404</b></center>\n",
    "<center><b><h1>Lab - 6</b></center>    \n",
    "<center><b><h1>Ida Gaurav R. | 24010101637</b></center>   \n",
    "<pre>"
   ]
  },
  {
   "cell_type": "markdown",
   "metadata": {},
   "source": [
    "# Tuple"
   ]
  },
  {
   "cell_type": "markdown",
   "metadata": {},
   "source": [
    "### 01) WAP to find sum of tuple elements."
   ]
  },
  {
   "cell_type": "code",
   "execution_count": 1,
   "metadata": {},
   "outputs": [
    {
     "name": "stdout",
     "output_type": "stream",
     "text": [
      "sum of tuple : 15\n"
     ]
    }
   ],
   "source": [
    "n = int(input(\"Enter the size of Tuple:\"))\n",
    "t = (int(input(\"Enter Element:\")) for i in range(n))\n",
    "\n",
    "sum = 0\n",
    "for i in t:\n",
    "    sum += i\n",
    "print(f\"sum of tuple : {sum}\")"
   ]
  },
  {
   "cell_type": "markdown",
   "metadata": {},
   "source": [
    "### 02) WAP to find Maximum and Minimum K elements in a given tuple."
   ]
  },
  {
   "cell_type": "code",
   "execution_count": 1,
   "metadata": {},
   "outputs": [
    {
     "name": "stdout",
     "output_type": "stream",
     "text": [
      "Maximum : 9 and Minimum : 2\n"
     ]
    }
   ],
   "source": [
    "n = int(input(\"Enter the size of Tuple:\"))\n",
    "t = tuple(int(input(\"Enter Element:\")) for i in range(n))\n",
    "\n",
    "min = t[0]\n",
    "max = t[0]\n",
    "\n",
    "for i in t:\n",
    "    if max < i:\n",
    "        max = i\n",
    "    elif min > i:\n",
    "        min = i\n",
    "\n",
    "print(f\"Maximum : {max} and Minimum : {min}\")"
   ]
  },
  {
   "cell_type": "markdown",
   "metadata": {},
   "source": [
    "### 03) WAP to find tuples which have all elements divisible by K from a list of tuples."
   ]
  },
  {
   "cell_type": "code",
   "execution_count": 17,
   "metadata": {},
   "outputs": [
    {
     "name": "stdout",
     "output_type": "stream",
     "text": [
      "[3, 6, 9]\n"
     ]
    }
   ],
   "source": [
    "n = int(input(\"Enter the size of Tuple:\"))\n",
    "t = tuple(int(input(\"Enter Element:\")) for i in range(n))\n",
    "k = int(input(\"Enter Value of K:\"))\n",
    "\n",
    "ans = []\n",
    "\n",
    "for i in t:\n",
    "    if i % k == 0:\n",
    "        ans.append(i)\n",
    "\n",
    "print(ans)"
   ]
  },
  {
   "cell_type": "markdown",
   "metadata": {},
   "source": [
    "### 04) WAP to create a list of tuples from given list having number and its cube in each tuple."
   ]
  },
  {
   "cell_type": "code",
   "execution_count": 29,
   "metadata": {},
   "outputs": [
    {
     "name": "stdout",
     "output_type": "stream",
     "text": [
      "[(1, 1), (2, 8), (3, 27), (4, 64), (5, 125)]\n"
     ]
    }
   ],
   "source": [
    "n = int(input(\"size of list:\"))\n",
    "t = tuple(int(input(\"Enter Element:\")) for i in range(n))\n",
    "l = [(i,i**3) for i in t]\n",
    "\n",
    "print(l)"
   ]
  },
  {
   "cell_type": "markdown",
   "metadata": {},
   "source": [
    "### 05) WAP to find tuples with all positive elements from the given list of tuples."
   ]
  },
  {
   "cell_type": "code",
   "execution_count": 30,
   "metadata": {},
   "outputs": [
    {
     "name": "stdout",
     "output_type": "stream",
     "text": [
      "[(1, 2), (1, 2)]\n"
     ]
    }
   ],
   "source": [
    "n = int(input(\"size of list:\"))\n",
    "l = [(tuple(int(input(\"Enter Element of Tuple:\")) for i in range(int(input(\"size of Tuple:\"))))) for i in range(n)]\n",
    "\n",
    "ans = []\n",
    "\n",
    "for i in l:\n",
    "    for j in i:\n",
    "        if j < 0:\n",
    "            break\n",
    "    else:\n",
    "        ans.append(i)\n",
    "\n",
    "print(ans)"
   ]
  },
  {
   "cell_type": "markdown",
   "metadata": {},
   "source": [
    "### 06) WAP to add tuple to list and vice – versa."
   ]
  },
  {
   "cell_type": "code",
   "execution_count": 31,
   "metadata": {},
   "outputs": [
    {
     "name": "stdout",
     "output_type": "stream",
     "text": [
      "List to Tuple : (1, 2, 3)\n",
      "Tuple to List : [1, 2, 3]\n"
     ]
    }
   ],
   "source": [
    "n = int(input(\"size of list:\"))\n",
    "l = [int(input(\"Enter Element:\")) for i in range(n)]\n",
    "\n",
    "t = tuple(l)\n",
    "print(f\"List to Tuple : {t}\")\n",
    "\n",
    "l = list(t)\n",
    "print(f\"Tuple to List : {l}\")"
   ]
  },
  {
   "cell_type": "markdown",
   "metadata": {},
   "source": [
    "### 07) WAP to remove tuples of length K."
   ]
  },
  {
   "cell_type": "code",
   "execution_count": 37,
   "metadata": {},
   "outputs": [
    {
     "name": "stdout",
     "output_type": "stream",
     "text": [
      "[(1, 2, 3)]\n"
     ]
    }
   ],
   "source": [
    "n = int(input(\"size of list:\"))\n",
    "l = [(tuple(int(input(\"Enter Element of Tuple:\")) for i in range(int(input(\"size of Tuple:\"))))) for i in range(n)]\n",
    "k = int(input(\"Enter Value of K:\"))\n",
    "\n",
    "ans = []\n",
    "\n",
    "for i in l:\n",
    "    if len(i) == k:\n",
    "        ans.append(i)\n",
    "\n",
    "print(ans)"
   ]
  },
  {
   "cell_type": "markdown",
   "metadata": {},
   "source": [
    "### 08) WAP to remove duplicates from tuple."
   ]
  },
  {
   "cell_type": "code",
   "execution_count": 32,
   "metadata": {},
   "outputs": [
    {
     "name": "stdout",
     "output_type": "stream",
     "text": [
      "(1, 2, 3)\n"
     ]
    }
   ],
   "source": [
    "n = int(input(\"size of list:\"))\n",
    "t = tuple(int(input(\"Enter Element:\")) for i in range(n))\n",
    "\n",
    "t = tuple(set(t))\n",
    "\n",
    "print(t)"
   ]
  },
  {
   "cell_type": "markdown",
   "metadata": {},
   "source": [
    "### 09) WAP to multiply adjacent elements of a tuple and print that resultant tuple."
   ]
  },
  {
   "cell_type": "code",
   "execution_count": 49,
   "metadata": {},
   "outputs": [
    {
     "name": "stdout",
     "output_type": "stream",
     "text": [
      "[2, 6, 12, 20]\n"
     ]
    }
   ],
   "source": [
    "n = int(input(\"size of list:\"))\n",
    "t = tuple(int(input(\"Enter Element:\")) for i in range(n))\n",
    "\n",
    "ans = []\n",
    "\n",
    "for i in range(len(t)-1):\n",
    "    ans.append(t[i]*t[i+1])\n",
    "    \n",
    "print(ans)\n"
   ]
  },
  {
   "cell_type": "markdown",
   "metadata": {},
   "source": [
    "### 10) WAP to test if the given tuple is distinct or not."
   ]
  },
  {
   "cell_type": "code",
   "execution_count": 2,
   "metadata": {},
   "outputs": [
    {
     "name": "stdout",
     "output_type": "stream",
     "text": [
      "Tuple is not distict : (3, 5, 5)\n"
     ]
    }
   ],
   "source": [
    "n = int(input(\"size of list:\"))\n",
    "t = tuple(int(input(\"Enter Element:\")) for i in range(n))\n",
    "\n",
    "for i in t:\n",
    "    if t.count(i) > 1:\n",
    "        print(f\"Tuple is not distict : {t}\")\n",
    "        break\n",
    "else:\n",
    "    print(f\"Tuple is distict : {t}\")"
   ]
  }
 ],
 "metadata": {
  "kernelspec": {
   "display_name": "Python 3",
   "language": "python",
   "name": "python3"
  },
  "language_info": {
   "codemirror_mode": {
    "name": "ipython",
    "version": 3
   },
   "file_extension": ".py",
   "mimetype": "text/x-python",
   "name": "python",
   "nbconvert_exporter": "python",
   "pygments_lexer": "ipython3",
   "version": "3.11.9"
  }
 },
 "nbformat": 4,
 "nbformat_minor": 4
}
