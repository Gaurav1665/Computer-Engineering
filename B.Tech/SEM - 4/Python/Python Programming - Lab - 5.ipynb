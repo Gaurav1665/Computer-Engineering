{
 "cells": [
  {
   "cell_type": "markdown",
   "metadata": {},
   "source": [
    "\n",
    "<a href='https://www.darshan.ac.in/'> <img src='https://www.darshan.ac.in/Content/media/DU_Logo.svg' width=\"250\" height=\"300\"/></a>\n",
    "<pre>\n",
    "<center><b><h1>Python Programming - 2301CS404</b></center>\n",
    "<center><b><h1>Lab - 5</b></center>    \n",
    "<pre>"
   ]
  },
  {
   "cell_type": "markdown",
   "metadata": {},
   "source": [
    "# List"
   ]
  },
  {
   "cell_type": "markdown",
   "metadata": {},
   "source": [
    "### 01) WAP to find sum of all the elements in a List."
   ]
  },
  {
   "cell_type": "code",
   "execution_count": 1,
   "metadata": {},
   "outputs": [
    {
     "name": "stdout",
     "output_type": "stream",
     "text": [
      "6\n"
     ]
    }
   ],
   "source": [
    "n = int(input(\"size of list:\"))\n",
    "l = [ int(input(\"Enter Element of list:\")) for i in range(n)]\n",
    "\n",
    "sum = 0\n",
    "for i in l:\n",
    "    sum += i\n",
    "\n",
    "print(sum)"
   ]
  },
  {
   "cell_type": "markdown",
   "metadata": {},
   "source": [
    "### 02) WAP to find largest element in a List."
   ]
  },
  {
   "cell_type": "code",
   "execution_count": 43,
   "metadata": {},
   "outputs": [
    {
     "name": "stdout",
     "output_type": "stream",
     "text": [
      "3\n"
     ]
    }
   ],
   "source": [
    "n = int(input(\"size of list:\"))\n",
    "l = [ int(input(\"Enter Element of list:\")) for i in range(n)]\n",
    "l.sort()\n",
    "\n",
    "print(l[len(l)-1])"
   ]
  },
  {
   "cell_type": "markdown",
   "metadata": {},
   "source": [
    "### 03) WAP to find the length of a List."
   ]
  },
  {
   "cell_type": "code",
   "execution_count": 5,
   "metadata": {},
   "outputs": [
    {
     "name": "stdout",
     "output_type": "stream",
     "text": [
      "3\n"
     ]
    }
   ],
   "source": [
    "n = int(input(\"size of list:\"))\n",
    "l = [ int(input(\"Enter Element of list:\")) for i in range(n)]\n",
    "\n",
    "print(len(l))"
   ]
  },
  {
   "cell_type": "markdown",
   "metadata": {},
   "source": [
    "### 04) WAP to interchange first and last elements in a list."
   ]
  },
  {
   "cell_type": "code",
   "execution_count": 8,
   "metadata": {},
   "outputs": [
    {
     "name": "stdout",
     "output_type": "stream",
     "text": [
      "Befor interchange: [1, 2, 3]\n",
      "After interchange: [3, 2, 1]\n"
     ]
    }
   ],
   "source": [
    "n = int(input(\"size of list:\"))\n",
    "l = [ int(input(\"Enter Element of list:\")) for i in range(n)]\n",
    "\n",
    "print(\"Befor interchange:\",l)\n",
    "\n",
    "temp = l[0]\n",
    "l[0] = l[len(l)-1]\n",
    "l[len(l)-1] = temp\n",
    "\n",
    "print(\"After interchange:\",l)"
   ]
  },
  {
   "cell_type": "markdown",
   "metadata": {},
   "source": [
    "### 05) WAP to split the List into two parts and append the first part to the end."
   ]
  },
  {
   "cell_type": "code",
   "execution_count": 10,
   "metadata": {},
   "outputs": [
    {
     "name": "stdout",
     "output_type": "stream",
     "text": [
      "[2, 3, 1]\n"
     ]
    }
   ],
   "source": [
    "n = int(input(\"size of list:\"))\n",
    "l = [ int(input(\"Enter Element of list:\")) for i in range(n)]\n",
    "\n",
    "part1 = l[ : int(len(l)/2)]\n",
    "part2 = l[int(len(l)/2) : ]\n",
    "\n",
    "print(part2 + part1)"
   ]
  },
  {
   "cell_type": "markdown",
   "metadata": {},
   "source": [
    "### 06) WAP to interchange the elements on two positions entered by a user."
   ]
  },
  {
   "cell_type": "code",
   "execution_count": 11,
   "metadata": {},
   "outputs": [
    {
     "name": "stdout",
     "output_type": "stream",
     "text": [
      "Befor interchange: [1, 2, 3, 4, 5]\n",
      "After interchange: [1, 4, 3, 2, 5]\n"
     ]
    }
   ],
   "source": [
    "n = int(input(\"size of list:\"))\n",
    "l = [ int(input(\"Enter Element of list:\")) for i in range(n)]\n",
    "\n",
    "i = int(input(\"Enter position of first element:\")) - 1\n",
    "j = int(input(\"Enter position of second element:\")) - 1\n",
    "\n",
    "print(\"Befor interchange:\",l)\n",
    "\n",
    "temp = l[i]\n",
    "l[i] = l[j]\n",
    "l[j] = temp\n",
    "\n",
    "print(\"After interchange:\",l)"
   ]
  },
  {
   "cell_type": "markdown",
   "metadata": {},
   "source": [
    "### 07) WAP to reverse the list entered by user."
   ]
  },
  {
   "cell_type": "code",
   "execution_count": 14,
   "metadata": {},
   "outputs": [
    {
     "name": "stdout",
     "output_type": "stream",
     "text": [
      "[3, 2, 1]\n"
     ]
    }
   ],
   "source": [
    "n = int(input(\"size of list:\"))\n",
    "l = [ int(input(\"Enter Element of list:\")) for i in range(n)]\n",
    "\n",
    "rev = l[::-1]\n",
    "\n",
    "print(rev)"
   ]
  },
  {
   "cell_type": "markdown",
   "metadata": {},
   "source": [
    "### 08) WAP to print even numbers in a list."
   ]
  },
  {
   "cell_type": "code",
   "execution_count": 15,
   "metadata": {},
   "outputs": [
    {
     "name": "stdout",
     "output_type": "stream",
     "text": [
      "2\n",
      "4\n"
     ]
    }
   ],
   "source": [
    "n = int(input(\"size of list:\"))\n",
    "l = [ int(input(\"Enter Element of list:\")) for i in range(n)]\n",
    "\n",
    "for i in l:\n",
    "    if i%2==0:\n",
    "        print(i)"
   ]
  },
  {
   "cell_type": "markdown",
   "metadata": {},
   "source": [
    "### 09) WAP to count unique items in a list."
   ]
  },
  {
   "cell_type": "code",
   "execution_count": 17,
   "metadata": {},
   "outputs": [
    {
     "name": "stdout",
     "output_type": "stream",
     "text": [
      "[1, 2]\n"
     ]
    }
   ],
   "source": [
    "n = int(input(\"size of list:\"))\n",
    "l = [ int(input(\"Enter Element of list:\")) for i in range(n)]\n",
    "\n",
    "unique = list(set(l))\n",
    "print(len(unique))"
   ]
  },
  {
   "cell_type": "markdown",
   "metadata": {},
   "source": [
    "### 10) WAP to copy a list."
   ]
  },
  {
   "cell_type": "code",
   "execution_count": 31,
   "metadata": {},
   "outputs": [
    {
     "name": "stdout",
     "output_type": "stream",
     "text": [
      "[1, 2]\n"
     ]
    }
   ],
   "source": [
    "n = int(input(\"size of list:\"))\n",
    "l = [ int(input(\"Enter Element of list:\")) for i in range(n)]\n",
    "\n",
    "copyedList = []\n",
    "\n",
    "copyedList.extend(l)\n",
    "\n",
    "print(copyList)"
   ]
  },
  {
   "cell_type": "markdown",
   "metadata": {},
   "source": [
    "### 11) WAP to print all odd numbers in a given range."
   ]
  },
  {
   "cell_type": "code",
   "execution_count": null,
   "metadata": {},
   "outputs": [],
   "source": [
    "n = int(input(\"size of list:\"))\n",
    "l = [ i for i in range(n) if i%2 != 0]\n",
    "\n",
    "print(l)"
   ]
  },
  {
   "cell_type": "markdown",
   "metadata": {},
   "source": [
    "### 12) WAP to count occurrences of an element in a list."
   ]
  },
  {
   "cell_type": "code",
   "execution_count": 32,
   "metadata": {},
   "outputs": [
    {
     "name": "stdout",
     "output_type": "stream",
     "text": [
      "occurences of 1 : 2\n",
      "occurences of 1 : 2\n",
      "occurences of 2 : 1\n"
     ]
    }
   ],
   "source": [
    "n = int(input(\"size of list:\"))\n",
    "l = [ int(input(\"Enter Element of list:\")) for i in range(n)]\n",
    "\n",
    "for i in l:\n",
    "        print(f\"occurences of {i} : {l.count(i)}\")"
   ]
  },
  {
   "cell_type": "markdown",
   "metadata": {},
   "source": [
    "### 13) WAP to find second largest number in a list."
   ]
  },
  {
   "cell_type": "code",
   "execution_count": 41,
   "metadata": {},
   "outputs": [
    {
     "name": "stdout",
     "output_type": "stream",
     "text": [
      "[7, 8, 4, 5, 1]\n",
      "8\n"
     ]
    }
   ],
   "source": [
    "n = int(input(\"size of list:\"))\n",
    "l = [ int(input(\"Enter Element of list:\")) for i in range(n)]\n",
    "\n",
    "l.sort()\n",
    "\n",
    "print(l[-2])"
   ]
  },
  {
   "cell_type": "markdown",
   "metadata": {},
   "source": [
    "### 14) WAP to extract elements with frequency greater than K."
   ]
  },
  {
   "cell_type": "code",
   "execution_count": null,
   "metadata": {},
   "outputs": [],
   "source": [
    "n = int(input(\"size of list:\"))\n",
    "l = [ int(input(\"Enter Element of list:\")) for i in range(n)]\n",
    "\n",
    "k = int(input(\"Enter frequency:\"))\n",
    "\n",
    "unique = list(set(k))\n",
    "\n",
    "for i in k:\n",
    "    if l.count(i) > k:\n",
    "        print(f\"{i}\")"
   ]
  },
  {
   "cell_type": "markdown",
   "metadata": {},
   "source": [
    "### 15) WAP to create a list of squared numbers from 0 to 9 with and without using List Comprehension."
   ]
  },
  {
   "cell_type": "code",
   "execution_count": null,
   "metadata": {},
   "outputs": [],
   "source": []
  },
  {
   "cell_type": "markdown",
   "metadata": {},
   "source": [
    "### 16) WAP to create a new list (fruit whose name starts with 'b') from the list of fruits given by user."
   ]
  },
  {
   "cell_type": "code",
   "execution_count": null,
   "metadata": {},
   "outputs": [],
   "source": []
  },
  {
   "cell_type": "markdown",
   "metadata": {},
   "source": [
    "### 17) WAP to create a list of common elements from given two lists."
   ]
  },
  {
   "cell_type": "code",
   "execution_count": null,
   "metadata": {},
   "outputs": [],
   "source": []
  }
 ],
 "metadata": {
  "kernelspec": {
   "display_name": "Python 3 (ipykernel)",
   "language": "python",
   "name": "python3"
  },
  "language_info": {
   "codemirror_mode": {
    "name": "ipython",
    "version": 3
   },
   "file_extension": ".py",
   "mimetype": "text/x-python",
   "name": "python",
   "nbconvert_exporter": "python",
   "pygments_lexer": "ipython3",
   "version": "3.11.4"
  }
 },
 "nbformat": 4,
 "nbformat_minor": 4
}
