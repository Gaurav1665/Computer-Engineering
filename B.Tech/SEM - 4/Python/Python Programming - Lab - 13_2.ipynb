{
 "cells": [
  {
   "cell_type": "markdown",
   "metadata": {},
   "source": [
    "<a href='https://www.darshan.ac.in/'> <img src='https://www.darshan.ac.in/Content/media/DU_Logo.svg' width=\"250\" height=\"300\"/></a>\n",
    "<pre>\n",
    "<center><b><h1>Python Programming - 2301CS404</b></center>\n",
    "<center><b><h1>Lab - 13</b></center>    \n",
    "<center><b><h1>Ida Gaurav R. | 24010101637</b></center>   \n",
    "<pre>"
   ]
  },
  {
   "cell_type": "markdown",
   "metadata": {},
   "source": [
    "## Continued.."
   ]
  },
  {
   "cell_type": "markdown",
   "metadata": {},
   "source": [
    "### 10) Calculate area of a ractangle using object as an argument to a method."
   ]
  },
  {
   "cell_type": "code",
   "execution_count": 1,
   "metadata": {},
   "outputs": [
    {
     "name": "stdout",
     "output_type": "stream",
     "text": [
      "area of Racrangle :  200\n"
     ]
    }
   ],
   "source": [
    "class Ractange:\n",
    "    def __init__(self, l , b):\n",
    "        self.l = l\n",
    "        self.b = b\n",
    "\n",
    "    def area(rect):\n",
    "        print(\"area of Racrangle : \",rect.l * rect.b)\n",
    "\n",
    "r = Ractange(10,20)\n",
    "Ractange.area(r)"
   ]
  },
  {
   "cell_type": "markdown",
   "metadata": {},
   "source": [
    "### 11) Calculate the area of a square. \n",
    "### Include a Constructor, a method to calculate area named area() and a method named output() that prints the output and is invoked by area()."
   ]
  },
  {
   "cell_type": "code",
   "execution_count": 3,
   "metadata": {},
   "outputs": [
    {
     "name": "stdout",
     "output_type": "stream",
     "text": [
      "Area :  25\n"
     ]
    }
   ],
   "source": [
    "class Square:\n",
    "    def __init__(self,l):\n",
    "        self.l = l\n",
    "\n",
    "    def area(self):\n",
    "        self.output(self.l*self.l)\n",
    "\n",
    "    def output(self, ans):\n",
    "        print(\"Area : \",ans)\n",
    "\n",
    "s = Square(5)\n",
    "s.area()"
   ]
  },
  {
   "cell_type": "markdown",
   "metadata": {},
   "source": [
    "### 12) Calculate the area of a rectangle. \n",
    "### Include a Constructor, a method to calculate area named area() and a method named output() that prints the output and is invoked by area().\n",
    "### Also define a class method that compares the two sides of reactangle. An object is instantiated only if the two sides are different; otherwise a message should be displayed : THIS IS SQUARE."
   ]
  },
  {
   "cell_type": "code",
   "execution_count": 5,
   "metadata": {},
   "outputs": [
    {
     "name": "stdout",
     "output_type": "stream",
     "text": [
      "area of Racrangle :  35\n"
     ]
    }
   ],
   "source": [
    "class Ractange:\n",
    "    def __init__(self, l , b):\n",
    "        self.l = l\n",
    "        self.b = b\n",
    "\n",
    "    def area(self):\n",
    "        print(\"area of Racrangle : \",self.l * self.b)\n",
    "\n",
    "    @classmethod\n",
    "    def check(self, l, b):\n",
    "        if l == b:\n",
    "            print(\"THIS IS A SQUARE\")\n",
    "        else:\n",
    "            return Ractange(l,b)\n",
    "\n",
    "r = Ractange.check(5,7)\n",
    "r.area()"
   ]
  },
  {
   "cell_type": "markdown",
   "metadata": {},
   "source": [
    "### 13) Define a class Square having a private attribute \"side\". \n",
    "### Implement get_side and set_side methods to accees the private attribute from outside of the class."
   ]
  },
  {
   "cell_type": "code",
   "execution_count": 6,
   "metadata": {},
   "outputs": [
    {
     "name": "stdout",
     "output_type": "stream",
     "text": [
      "Side :  0\n",
      "Side :  5\n"
     ]
    }
   ],
   "source": [
    "class Square:\n",
    "    __side = 0\n",
    "\n",
    "    def setSide(self, l):\n",
    "        self.__side = l\n",
    "\n",
    "    def getSide(self):\n",
    "        print(\"Side : \",self.__side)\n",
    "\n",
    "s = Square()\n",
    "\n",
    "s.getSide()\n",
    "s.setSide(5)\n",
    "s.getSide()"
   ]
  },
  {
   "cell_type": "markdown",
   "metadata": {},
   "source": [
    "### 14) Create a class Profit that has a method named getProfit that accepts profit from the user.\n",
    "### Create a class Loss that has a method named getLoss that accepts loss from the user.\n",
    "### Create a class BalanceSheet that inherits from both classes Profit and Loss and calculates the balanace. It has two methods getBalance() and printBalance()."
   ]
  },
  {
   "cell_type": "code",
   "execution_count": 19,
   "metadata": {},
   "outputs": [
    {
     "name": "stdout",
     "output_type": "stream",
     "text": [
      "Balance :  1000\n",
      "Balance :  1000\n",
      "Balance :  1000\n"
     ]
    }
   ],
   "source": [
    "class Profit:\n",
    "    profit = 0\n",
    "    def getProfit(self):\n",
    "        return self.profit \n",
    "    \n",
    "    def setProfit(self, balance):\n",
    "        self.profit += balance \n",
    "\n",
    "class Loss:\n",
    "    loss = 0\n",
    "    def getLoss(self):\n",
    "        return self.loss \n",
    "    \n",
    "    def setLoss(self, balance):\n",
    "        self.loss += balance\n",
    "\n",
    "class balanceSheet(Profit, Loss):\n",
    "    balance = 0\n",
    "    def setBalance(self, balance):\n",
    "        self.balance = balance\n",
    "    \n",
    "    def printBalance(self):\n",
    "        self.balance += super().profit - super().loss\n",
    "        print(\"Balance : \",self.balance)\n",
    "\n",
    "bs = balanceSheet()\n",
    "bs.setBalance(1000)\n",
    "bs.printBalance()\n",
    "bs.setProfit(1000)\n",
    "bs.printBalance()\n",
    "bs.setLoss(1500)\n",
    "bs.printBalance()"
   ]
  },
  {
   "attachments": {},
   "cell_type": "markdown",
   "metadata": {},
   "source": [
    "### 15) WAP to demonstrate all types of inheritance."
   ]
  },
  {
   "cell_type": "code",
   "execution_count": 7,
   "metadata": {},
   "outputs": [
    {
     "name": "stdout",
     "output_type": "stream",
     "text": [
      "This is class A\n",
      "This is class B\n",
      "This is class C\n",
      "This is class D\n",
      "This is class E\n",
      "This is class A\n",
      "This is class B\n",
      "This is class C\n",
      "This is class D\n",
      "This is class F\n"
     ]
    }
   ],
   "source": [
    "class A:\n",
    "    def displayA(self):\n",
    "        print(\"This is class A\")\n",
    "\n",
    "class B:\n",
    "    def displayB(self):\n",
    "        print(\"This is class B\")\n",
    "\n",
    "class C(A,B):\n",
    "    def displayC(self):\n",
    "        print(\"This is class C\")\n",
    "\n",
    "class D(C):\n",
    "    def displayD(self):\n",
    "        print(\"This is class D\")\n",
    "\n",
    "class E(D):\n",
    "    def displayE(self):\n",
    "        print(\"This is class E\")\n",
    "\n",
    "class F(D):\n",
    "    def displayF(self):\n",
    "        print(\"This is class F\")\n",
    "\n",
    "e = E()\n",
    "e.displayA()\n",
    "e.displayB()\n",
    "e.displayC()\n",
    "e.displayD()\n",
    "e.displayE()\n",
    "\n",
    "f = F()\n",
    "f.displayA()\n",
    "f.displayB()\n",
    "f.displayC()\n",
    "f.displayD()\n",
    "f.displayF()\n"
   ]
  },
  {
   "cell_type": "markdown",
   "metadata": {},
   "source": [
    "### 16) Create a Person class with a constructor that takes two arguments name and age. \n",
    "### Create a child class Employee that inherits from Person and adds a new attribute salary. \n",
    "### Override the __init__ method in Employee to call the parent class's __init__ method using the super() and then initialize the salary attribute."
   ]
  },
  {
   "cell_type": "code",
   "execution_count": 12,
   "metadata": {},
   "outputs": [
    {
     "name": "stdout",
     "output_type": "stream",
     "text": [
      "name :  abc\n",
      "age :  19\n",
      "salary :  15000\n"
     ]
    }
   ],
   "source": [
    "class Person:\n",
    "    def __init__(self, name, age):\n",
    "        self.name = name\n",
    "        self.age = age\n",
    "\n",
    "class Employee(Person):\n",
    "    def __init__(self,name, age, salary):\n",
    "        super().__init__(name,age)\n",
    "        self.salary = salary\n",
    "\n",
    "    def getEmployeeDetail(self):\n",
    "        print(\"name : \",self.name)\n",
    "        print(\"age : \",self.age)\n",
    "        print(\"salary : \",self.salary)\n",
    "\n",
    "e = Employee(\"abc\", 19, 15000)\n",
    "e.getEmployeeDetail()"
   ]
  },
  {
   "cell_type": "markdown",
   "metadata": {},
   "source": [
    "### 17) Create a Shape class with a draw method that is not implemented. \n",
    "### Create three child classes Rectangle, Circle, and Triangle that implement the draw method with their respective drawing behaviors. \n",
    "### Create a list of Shape objects that includes one instance of each child class, and then iterate through the list and call the draw method on each object."
   ]
  },
  {
   "cell_type": "code",
   "execution_count": null,
   "metadata": {},
   "outputs": [
    {
     "name": "stdout",
     "output_type": "stream",
     "text": [
      "drawing Ractange\n",
      "drawing Circle\n",
      "drawing Triangle\n"
     ]
    }
   ],
   "source": [
    "from abc import ABC,abstractmethod\n",
    "class Shape(ABC):\n",
    "    @abstractmethod\n",
    "    def draw(self):\n",
    "        pass\n",
    "\n",
    "class Rectangle(Shape):\n",
    "    def draw(self):\n",
    "        print(\"drawing Rectangle\")\n",
    "\n",
    "class Circle(Shape):\n",
    "    def draw(self):\n",
    "        print(\"drawing Circle\")\n",
    "\n",
    "class Triangle(Shape):\n",
    "    def draw(self):\n",
    "        print(\"drawing Triangle\")\n",
    "\n",
    "\n",
    "shapes = [Rectangle(),Circle(),Triangle()]\n",
    "\n",
    "for i in shapes:\n",
    "    i.draw()"
   ]
  }
 ],
 "metadata": {
  "kernelspec": {
   "display_name": "Python 3 (ipykernel)",
   "language": "python",
   "name": "python3"
  },
  "language_info": {
   "codemirror_mode": {
    "name": "ipython",
    "version": 3
   },
   "file_extension": ".py",
   "mimetype": "text/x-python",
   "name": "python",
   "nbconvert_exporter": "python",
   "pygments_lexer": "ipython3",
   "version": "3.12.4"
  }
 },
 "nbformat": 4,
 "nbformat_minor": 4
}
