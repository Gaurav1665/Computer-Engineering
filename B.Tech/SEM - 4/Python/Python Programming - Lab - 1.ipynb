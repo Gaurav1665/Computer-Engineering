{
 "cells": [
  {
   "cell_type": "markdown",
   "metadata": {},
   "source": [
    "<a href='https://www.darshan.ac.in/'> <img src='https://www.darshan.ac.in/Content/media/DU_Logo.svg' width=\"250\" height=\"10\"/></a>\n",
    "<pre>\n",
    "<center><b><h1>Python Programming - 2301CS404</b></center>\n",
    "<center><b><h1>Lab - 1</b></center>    \n",
    "<pre>"
   ]
  },
  {
   "cell_type": "markdown",
   "metadata": {},
   "source": [
    "### 01) WAP to print “Hello World”"
   ]
  },
  {
   "cell_type": "code",
   "execution_count": 36,
   "metadata": {},
   "outputs": [
    {
     "name": "stdout",
     "output_type": "stream",
     "text": [
      "Hello World\n"
     ]
    }
   ],
   "source": [
    "print(\"Hello World\")"
   ]
  },
  {
   "cell_type": "markdown",
   "metadata": {},
   "source": [
    "### 02) WAP to print addition of two numbers with and without using input()."
   ]
  },
  {
   "cell_type": "code",
   "execution_count": 37,
   "metadata": {},
   "outputs": [
    {
     "name": "stdout",
     "output_type": "stream",
     "text": [
      "10 + 20 = 30\n"
     ]
    }
   ],
   "source": [
    "a = 10 \n",
    "b = 20\n",
    "print(f\"{a} + {b} = {a+b}\")"
   ]
  },
  {
   "cell_type": "markdown",
   "metadata": {},
   "source": [
    "### 03) WAP to check the type of the variable."
   ]
  },
  {
   "cell_type": "code",
   "execution_count": 38,
   "metadata": {},
   "outputs": [
    {
     "name": "stdout",
     "output_type": "stream",
     "text": [
      "20 : <class 'int'>\n",
      "2.4 : <class 'float'>\n",
      "True : <class 'bool'>\n"
     ]
    }
   ],
   "source": [
    "c = 2.4 \n",
    "d = True\n",
    "print(f\"{b} : {type(b)}\")\n",
    "print(f\"{c} : {type(c)}\")\n",
    "print(f\"{d} : {type(d)}\")"
   ]
  },
  {
   "cell_type": "markdown",
   "metadata": {},
   "source": [
    "### 04) WAP to calculate simple interest."
   ]
  },
  {
   "cell_type": "code",
   "execution_count": 39,
   "metadata": {},
   "outputs": [
    {
     "ename": "ValueError",
     "evalue": "invalid literal for int() with base 10: ''",
     "output_type": "error",
     "traceback": [
      "\u001b[1;31m---------------------------------------------------------------------------\u001b[0m",
      "\u001b[1;31mValueError\u001b[0m                                Traceback (most recent call last)",
      "Cell \u001b[1;32mIn[39], line 1\u001b[0m\n\u001b[1;32m----> 1\u001b[0m p \u001b[38;5;241m=\u001b[39m \u001b[38;5;28;43mint\u001b[39;49m\u001b[43m(\u001b[49m\u001b[38;5;28;43minput\u001b[39;49m\u001b[43m(\u001b[49m\u001b[38;5;124;43m\"\u001b[39;49m\u001b[38;5;124;43mEnter Principal\u001b[39;49m\u001b[38;5;124;43m\"\u001b[39;49m\u001b[43m)\u001b[49m\u001b[43m)\u001b[49m\n\u001b[0;32m      2\u001b[0m r \u001b[38;5;241m=\u001b[39m \u001b[38;5;28mint\u001b[39m(\u001b[38;5;28minput\u001b[39m(\u001b[38;5;124m\"\u001b[39m\u001b[38;5;124mEnter Rate of Interest\u001b[39m\u001b[38;5;124m\"\u001b[39m))\n\u001b[0;32m      3\u001b[0m t \u001b[38;5;241m=\u001b[39m \u001b[38;5;28mint\u001b[39m(\u001b[38;5;28minput\u001b[39m(\u001b[38;5;124m\"\u001b[39m\u001b[38;5;124mEnter Time Period\u001b[39m\u001b[38;5;124m\"\u001b[39m))\n",
      "\u001b[1;31mValueError\u001b[0m: invalid literal for int() with base 10: ''"
     ]
    }
   ],
   "source": [
    "p = int(input(\"Enter Principal\"))\n",
    "r = int(input(\"Enter Rate of Interest\"))\n",
    "t = int(input(\"Enter Time Period\"))\n",
    "\n",
    "print(\"Simple interest : \",((p*r*t)/100))"
   ]
  },
  {
   "cell_type": "markdown",
   "metadata": {},
   "source": [
    "### 05) WAP to calculate area and perimeter of a circle."
   ]
  },
  {
   "cell_type": "code",
   "execution_count": 12,
   "metadata": {},
   "outputs": [
    {
     "name": "stdout",
     "output_type": "stream",
     "text": [
      "perimeter :  62.857142857142854\n",
      "Area :  314.2857142857143\n"
     ]
    }
   ],
   "source": [
    "radius = float(input(\"Enter radius\"))\n",
    "\n",
    "print(f\"perimeter : \",(2 * (22/7) * radius ))\n",
    "\n",
    "print(f\"Area : \",((22/7) * radius * radius ))"
   ]
  },
  {
   "cell_type": "markdown",
   "metadata": {},
   "source": [
    "### 06) WAP to calculate area of a triangle."
   ]
  },
  {
   "cell_type": "code",
   "execution_count": 13,
   "metadata": {},
   "outputs": [
    {
     "name": "stdout",
     "output_type": "stream",
     "text": [
      "Area :  100.0\n"
     ]
    }
   ],
   "source": [
    "base = float(input(\"Enter Base:\"))\n",
    "\n",
    "height = float(input(\"Enter Height:\"))\n",
    "\n",
    "print(f\"Area : \",((1/2) * base * height ))"
   ]
  },
  {
   "cell_type": "markdown",
   "metadata": {},
   "source": [
    "### 07) WAP to compute quotient and remainder."
   ]
  },
  {
   "cell_type": "code",
   "execution_count": 14,
   "metadata": {},
   "outputs": [
    {
     "name": "stdout",
     "output_type": "stream",
     "text": [
      "Quotient :  2.5\n",
      "Remainder :  2\n"
     ]
    }
   ],
   "source": [
    "a = int(input(\"Enter a\"))\n",
    "\n",
    "b = int(input(\"Enter b\"))\n",
    "\n",
    "print(\"Quotient : \",(a/b))\n",
    "\n",
    "print(\"Remainder : \",(a%b))"
   ]
  },
  {
   "cell_type": "markdown",
   "metadata": {},
   "source": [
    "### 08) WAP to convert degree into Fahrenheit and vice versa."
   ]
  },
  {
   "cell_type": "code",
   "execution_count": 21,
   "metadata": {},
   "outputs": [
    {
     "name": "stdout",
     "output_type": "stream",
     "text": [
      "Fahrenheit :  -40.0\n",
      "Celsius :  -40.0\n"
     ]
    }
   ],
   "source": [
    "celsius = float(input(\"Enter Celsius:\"))\n",
    "\n",
    "print(f\"Fahrenheit : \",(celsius * (9/5) + 32 ))\n",
    "\n",
    "fahrenheit = float(input(\"Enter Fahrenheit:\"))\n",
    "\n",
    "print(f\"Celsius : \",((fahrenheit - 32) * (5/9)))"
   ]
  },
  {
   "cell_type": "markdown",
   "metadata": {},
   "source": [
    "### 09) WAP to find the distance between two points in 2-D space."
   ]
  },
  {
   "cell_type": "code",
   "execution_count": 28,
   "metadata": {},
   "outputs": [
    {
     "name": "stdout",
     "output_type": "stream",
     "text": [
      "Distance between (5.0, 5.0) and (10.0, 10.0) : 4.47213595499958\n"
     ]
    }
   ],
   "source": [
    "import math\n",
    "x1 = float(input(\"Enter value of X1:\"))\n",
    "y1 = float(input(\"Enter value of Y1:\"))\n",
    "\n",
    "x2 = float(input(\"Enter value of X2:\"))\n",
    "y2 = float(input(\"Enter value of Y2:\"))\n",
    "\n",
    "print(f\"Distance between {x1,y1} and {x2,y2} : {math.sqrt((x2-x1)*2 + (y2-y1)*2)}\")"
   ]
  },
  {
   "cell_type": "markdown",
   "metadata": {},
   "source": [
    "### 10) WAP to print sum of n natural numbers."
   ]
  },
  {
   "cell_type": "code",
   "execution_count": 22,
   "metadata": {},
   "outputs": [
    {
     "name": "stdout",
     "output_type": "stream",
     "text": [
      "Sum of 0 natural number : 15\n"
     ]
    }
   ],
   "source": [
    "n = int(input(\"Enter N:\"))\n",
    "sum = 0\n",
    "while n>0:\n",
    "    sum = sum + n\n",
    "    n-=1\n",
    "\n",
    "print(f\"Sum of {n} natural number : {sum}\")"
   ]
  },
  {
   "cell_type": "markdown",
   "metadata": {},
   "source": [
    "### 11) WAP to print sum of square of n natural numbers."
   ]
  },
  {
   "cell_type": "code",
   "execution_count": 29,
   "metadata": {},
   "outputs": [
    {
     "name": "stdout",
     "output_type": "stream",
     "text": [
      "Sum of 0 natural number : 55\n"
     ]
    }
   ],
   "source": [
    "n = int(input(\"Enter N:\"))\n",
    "sum = 0\n",
    "while n>0:\n",
    "    sum = sum + (n*n)\n",
    "    n-=1\n",
    "\n",
    "print(f\"Sum of {n} natural number : {sum}\")"
   ]
  },
  {
   "cell_type": "markdown",
   "metadata": {},
   "source": [
    "### 12) WAP to concate the first and last name of the student."
   ]
  },
  {
   "cell_type": "code",
   "execution_count": 30,
   "metadata": {},
   "outputs": [
    {
     "name": "stdout",
     "output_type": "stream",
     "text": [
      "Full Name : ab\n"
     ]
    }
   ],
   "source": [
    "first = input(\"First Name\")\n",
    "last = input(\"Last Name\")\n",
    "\n",
    "name = first + \" \" + last\n",
    "\n",
    "print(\"Full Name :\",name)"
   ]
  },
  {
   "cell_type": "markdown",
   "metadata": {},
   "source": [
    "### 13) WAP to swap two numbers."
   ]
  },
  {
   "cell_type": "code",
   "execution_count": 31,
   "metadata": {},
   "outputs": [
    {
     "name": "stdout",
     "output_type": "stream",
     "text": [
      "Value of A and B Before swap\n",
      "A = 10\n",
      "B = 20\n",
      "Value of A and B After swap\n",
      "A = 20\n",
      "B = 10\n"
     ]
    }
   ],
   "source": [
    "a = int(input(\"Enter a:\"))\n",
    "b = int(input(\"Enter b:\"))\n",
    "\n",
    "print(\"Value of A and B Before swap\")\n",
    "print(\"A =\", a)\n",
    "print(\"B =\", b)\n",
    "\n",
    "temp = a\n",
    "a = b\n",
    "b = temp\n",
    "\n",
    "print(\"Value of A and B After swap\")\n",
    "print(\"A =\", a)\n",
    "print(\"B =\", b)"
   ]
  },
  {
   "cell_type": "markdown",
   "metadata": {},
   "source": [
    "### 14) WAP to get the distance from user into kilometer, and convert it into meter, feet, inches and centimeter."
   ]
  },
  {
   "cell_type": "code",
   "execution_count": 32,
   "metadata": {},
   "outputs": [
    {
     "name": "stdout",
     "output_type": "stream",
     "text": [
      "Meter :  1000.0\n",
      "feet :  3280.84\n",
      "inche :  39370.08\n",
      "centimeter :  100000.0\n"
     ]
    }
   ],
   "source": [
    "km = float(input(\"Enter Kilometer : \"))\n",
    "\n",
    "print(\"Meter : \",(km * 1000))\n",
    "\n",
    "print(\"feet : \",(km * 3280.84))\n",
    "\n",
    "print(\"inche : \",(km * 39370.08))\n",
    "\n",
    "print(\"centimeter : \",(km * 100000))"
   ]
  },
  {
   "cell_type": "markdown",
   "metadata": {},
   "source": [
    "### 15) WAP to get day, month and year from the user and print the date in the given format: 23-11-2024."
   ]
  },
  {
   "cell_type": "code",
   "execution_count": 35,
   "metadata": {},
   "outputs": [
    {
     "name": "stdout",
     "output_type": "stream",
     "text": [
      "23-11-2024\n"
     ]
    }
   ],
   "source": [
    "day =  int(input(\"Enter Day : \"))\n",
    "\n",
    "month = int(input(\"Enter Month : \"))\n",
    "\n",
    "year = int(input(\"Enter Year : \"))\n",
    "\n",
    "print(day,month,year,sep=\"-\")"
   ]
  }
 ],
 "metadata": {
  "kernelspec": {
   "display_name": "Python 3",
   "language": "python",
   "name": "python3"
  },
  "language_info": {
   "codemirror_mode": {
    "name": "ipython",
    "version": 3
   },
   "file_extension": ".py",
   "mimetype": "text/x-python",
   "name": "python",
   "nbconvert_exporter": "python",
   "pygments_lexer": "ipython3",
   "version": "3.11.4"
  }
 },
 "nbformat": 4,
 "nbformat_minor": 4
}
