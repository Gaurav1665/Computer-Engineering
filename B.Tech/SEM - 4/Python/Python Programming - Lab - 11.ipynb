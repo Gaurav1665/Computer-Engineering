{
 "cells": [
  {
   "attachments": {},
   "cell_type": "markdown",
   "metadata": {},
   "source": [
    "<a href='https://www.darshan.ac.in/'> <img src='https://www.darshan.ac.in/Content/media/DU_Logo.svg' width=\"250\" height=\"300\"/></a>\n",
    "<pre>\n",
    "<center><b><h1>Python Programming - 2301CS404</b></center>\n",
    "<center><b><h1>Lab - 11</b></center>    \n",
    "<pre>"
   ]
  },
  {
   "cell_type": "markdown",
   "metadata": {},
   "source": [
    "# Modules"
   ]
  },
  {
   "cell_type": "markdown",
   "metadata": {},
   "source": [
    "### 01) WAP to create Calculator module which defines functions like add, sub,mul and div. \n",
    "### Create another .py file that uses the functions available in Calculator module."
   ]
  },
  {
   "cell_type": "code",
   "execution_count": 79,
   "metadata": {},
   "outputs": [
    {
     "name": "stdout",
     "output_type": "stream",
     "text": [
      "add : 7\n",
      "sub : -3\n",
      "mul : 10\n",
      "div : 0.4\n"
     ]
    }
   ],
   "source": [
    "import Calculator\n",
    "\n",
    "print(f\"add : {Calculator.add(2,5)}\")\n",
    "print(f\"sub : {Calculator.sub(2,5)}\")\n",
    "print(f\"mul : {Calculator.mul(2,5)}\")\n",
    "print(f\"div : {Calculator.div(2,5)}\")"
   ]
  },
  {
   "cell_type": "markdown",
   "metadata": {},
   "source": [
    "### 02) WAP to pick a random character from a given String."
   ]
  },
  {
   "cell_type": "code",
   "execution_count": null,
   "metadata": {},
   "outputs": [
    {
     "name": "stdout",
     "output_type": "stream",
     "text": [
      "Random char : l\n"
     ]
    }
   ],
   "source": [
    "import random\n",
    "\n",
    "n = input(\"Enter String : \")\n",
    "\n",
    "print(f\"Random char : {n[random.randint(0,len(n)-1)]}\")"
   ]
  },
  {
   "cell_type": "markdown",
   "metadata": {},
   "source": [
    "### 03) WAP to pick a random element from a given list."
   ]
  },
  {
   "cell_type": "code",
   "execution_count": 16,
   "metadata": {},
   "outputs": [
    {
     "name": "stdout",
     "output_type": "stream",
     "text": [
      "Random Element : 3\n"
     ]
    }
   ],
   "source": [
    "n = int(input(\"size of list:\"))\n",
    "l = [ int(input(\"Enter Element of list:\")) for i in range(n)]\n",
    "\n",
    "print(f\"Random Element : {l[random.randint(0,n)]}\")"
   ]
  },
  {
   "cell_type": "markdown",
   "metadata": {},
   "source": [
    "### 04) WAP to roll a dice in such a way that every time you get the same number."
   ]
  },
  {
   "cell_type": "code",
   "execution_count": 26,
   "metadata": {},
   "outputs": [
    {
     "name": "stdout",
     "output_type": "stream",
     "text": [
      "2\n"
     ]
    }
   ],
   "source": [
    "random.seed(1)\n",
    "print(random.randint(1,7))"
   ]
  },
  {
   "cell_type": "markdown",
   "metadata": {},
   "source": [
    "### 05) WAP to generate 3 random integers between 100 and 999 which is divisible by 5."
   ]
  },
  {
   "cell_type": "code",
   "execution_count": 34,
   "metadata": {},
   "outputs": [
    {
     "name": "stdout",
     "output_type": "stream",
     "text": [
      "[855, 620, 210]\n"
     ]
    }
   ],
   "source": [
    "l = []\n",
    "while len(l)!=3:\n",
    "    randomInt = random.randint(100,999)\n",
    "    if randomInt % 5 == 0:\n",
    "        l.append(randomInt)\n",
    "\n",
    "print(l)"
   ]
  },
  {
   "cell_type": "markdown",
   "metadata": {},
   "source": [
    "### 06) WAP to generate 100 random lottery tickets and pick two lucky tickets from it and announce them as Winner and Runner up respectively."
   ]
  },
  {
   "cell_type": "code",
   "execution_count": 43,
   "metadata": {},
   "outputs": [
    {
     "name": "stdout",
     "output_type": "stream",
     "text": [
      "Winner lottery ticket number : 724\n",
      "Runner up lottery ticket number : 987\n"
     ]
    }
   ],
   "source": [
    "l = []\n",
    "while len(l)!=100:\n",
    "    randomInt = random.randint(100,999)\n",
    "    if l.__contains__(randomInt):\n",
    "        pass\n",
    "    else:\n",
    "        l.append(randomInt)\n",
    "\n",
    "print(f\"Winner lottery ticket number : {l[random.randint(0,len(l)-1)]}\")\n",
    "print(f\"Runner up lottery ticket number : {l[random.randint(0,len(l)-1)]}\")"
   ]
  },
  {
   "cell_type": "markdown",
   "metadata": {},
   "source": [
    "### 07) WAP to print current date and time in Python."
   ]
  },
  {
   "cell_type": "code",
   "execution_count": 44,
   "metadata": {},
   "outputs": [
    {
     "name": "stdout",
     "output_type": "stream",
     "text": [
      "Current Date time : 2025-02-15 16:25:37.067433\n"
     ]
    }
   ],
   "source": [
    "import datetime\n",
    "print(f\"Current Date time : {datetime.datetime.now()}\")"
   ]
  },
  {
   "cell_type": "markdown",
   "metadata": {},
   "source": [
    "### 08) Subtract a week (7 days) from a given date in Python."
   ]
  },
  {
   "cell_type": "code",
   "execution_count": 45,
   "metadata": {},
   "outputs": [
    {
     "name": "stdout",
     "output_type": "stream",
     "text": [
      "Subtract week : 2025-02-08 16:27:41.013472\n"
     ]
    }
   ],
   "source": [
    "print(f\"Subtract week : {datetime.datetime.now() - datetime.timedelta(weeks=1)}\")"
   ]
  },
  {
   "cell_type": "markdown",
   "metadata": {},
   "source": [
    "### 09) WAP to Calculate number of days between two given dates."
   ]
  },
  {
   "cell_type": "code",
   "execution_count": 49,
   "metadata": {},
   "outputs": [
    {
     "name": "stdout",
     "output_type": "stream",
     "text": [
      "Difference between two dates : 163 days, 0:00:00\n"
     ]
    }
   ],
   "source": [
    "date1 = datetime.datetime.strptime(\"15/02/2025\", \"%d/%m/%Y\")\n",
    "date2 = datetime.datetime.strptime(\"28/07/2025\", \"%d/%m/%Y\")\n",
    "\n",
    "print(f\"Difference between two dates : {date2 - date1}\")"
   ]
  },
  {
   "cell_type": "markdown",
   "metadata": {},
   "source": [
    "### 10) WAP to Find the day of the week of a given date.(i.e. wether it is sunday/monday/tuesday/etc.)"
   ]
  },
  {
   "cell_type": "code",
   "execution_count": 52,
   "metadata": {},
   "outputs": [
    {
     "name": "stdout",
     "output_type": "stream",
     "text": [
      "Todays day of the week : Saturday \n"
     ]
    }
   ],
   "source": [
    "print(f\"Todays day of the week : {datetime.datetime.now().strftime('%A')} \")"
   ]
  },
  {
   "cell_type": "markdown",
   "metadata": {},
   "source": [
    "### 11) WAP to demonstrate the use of date time module."
   ]
  },
  {
   "cell_type": "code",
   "execution_count": 65,
   "metadata": {},
   "outputs": [
    {
     "name": "stdout",
     "output_type": "stream",
     "text": [
      "Current Date time : 16:46:51.486475\n",
      "Current Year : 2025\n",
      "Current Month : 2\n",
      "Current Day : 15\n",
      "Current Hour : 16\n",
      "Current Minute : 46\n",
      "Current Second : 51\n",
      "Current Microsecond : 486475\n"
     ]
    }
   ],
   "source": [
    "print(f\"Current Date time : {datetime.datetime.now()}\")\n",
    "print(f\"Current Year : {datetime.datetime.now().year}\")\n",
    "print(f\"Current Month : {datetime.datetime.now().month}\")\n",
    "print(f\"Current Day : {datetime.datetime.now().day}\")\n",
    "print(f\"Current Hour : {datetime.datetime.now().hour}\")\n",
    "print(f\"Current Minute : {datetime.datetime.now().minute}\")\n",
    "print(f\"Current Second : {datetime.datetime.now().second}\")\n",
    "print(f\"Current Microsecond : {datetime.datetime.now().microsecond}\")"
   ]
  },
  {
   "cell_type": "markdown",
   "metadata": {},
   "source": [
    "### 12) WAP to demonstrate the use of the math module."
   ]
  },
  {
   "cell_type": "code",
   "execution_count": 78,
   "metadata": {},
   "outputs": [
    {
     "name": "stdout",
     "output_type": "stream",
     "text": [
      "math.pi  : 3.141592653589793\n",
      "math.e   : 2.718281828459045\n",
      "math.inf : inf\n",
      "math.nan : nan\n",
      "math.tau : 6.283185307179586\n",
      "math.pow(2,5)        :  32.0\n",
      "math.sqrt(25)        :  5.0\n",
      "math.ceil(2.5)       :  3\n",
      "math.floor(2.5)      :  2\n",
      "math.exp(2.5)        :  12.182493960703473\n",
      "math.gcd(2,5)        :  1\n",
      "math.isinf(math.inf) :  True\n",
      "math.isnan(math.nan) :  True\n",
      "math.log(2)          :  0.6931471805599453\n",
      "math.lof2(2)         :  1.0\n"
     ]
    }
   ],
   "source": [
    "import math\n",
    "\n",
    "print(f\"math.pi  : {math.pi}\")\n",
    "print(f\"math.e   : {math.e}\")\n",
    "print(f\"math.inf : {math.inf}\")\n",
    "print(f\"math.nan : {math.nan}\")\n",
    "print(f\"math.tau : {math.tau}\")\n",
    "\n",
    "print(f\"math.pow(2,5)        : \", math.pow(2,5))\n",
    "print(f\"math.sqrt(25)        : \", math.sqrt(25))\n",
    "print(f\"math.ceil(2.5)       : \", math.ceil(2.5))\n",
    "print(f\"math.floor(2.5)      : \", math.floor(2.5))\n",
    "print(f\"math.exp(2.5)        : \", math.exp(2.5))\n",
    "print(f\"math.gcd(2,5)        : \", math.gcd(2,5))\n",
    "print(f\"math.isinf(math.inf) : \", math.isinf(math.inf))\n",
    "print(f\"math.isnan(math.nan) : \", math.isnan(math.nan))\n",
    "print(f\"math.log(2)          : \", math.log(2))\n",
    "print(f\"math.lof2(2)         : \", math.log2(2))"
   ]
  },
  {
   "cell_type": "code",
   "execution_count": null,
   "metadata": {},
   "outputs": [],
   "source": []
  }
 ],
 "metadata": {
  "kernelspec": {
   "display_name": "Python 3",
   "language": "python",
   "name": "python3"
  },
  "language_info": {
   "codemirror_mode": {
    "name": "ipython",
    "version": 3
   },
   "file_extension": ".py",
   "mimetype": "text/x-python",
   "name": "python",
   "nbconvert_exporter": "python",
   "pygments_lexer": "ipython3",
   "version": "3.11.4"
  }
 },
 "nbformat": 4,
 "nbformat_minor": 4
}
