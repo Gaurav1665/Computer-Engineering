{
 "cells": [
  {
   "cell_type": "markdown",
   "metadata": {},
   "source": [
    "<a href='https://www.darshan.ac.in/'> <img src='https://www.darshan.ac.in/Content/media/DU_Logo.svg' width=\"250\" height=\"300\"/></a>\n",
    "<pre>\n",
    "<center><b><h1>Python Programming - 2301CS404</b></center>\n",
    "<center><b><h1>Lab - 13</b></center>    \n",
    "<pre>"
   ]
  },
  {
   "cell_type": "markdown",
   "metadata": {},
   "source": [
    "# OOP"
   ]
  },
  {
   "cell_type": "markdown",
   "metadata": {},
   "source": [
    "### 01) Write a Program to create a class by name Students, and initialize attributes like name, age, and grade while creating an object."
   ]
  },
  {
   "cell_type": "code",
   "execution_count": 3,
   "metadata": {},
   "outputs": [
    {
     "name": "stdout",
     "output_type": "stream",
     "text": [
      "abc\n",
      "19\n",
      "A\n"
     ]
    }
   ],
   "source": [
    "class Students:\n",
    "    def __init__(self,name, age, grade):\n",
    "        self.name = name\n",
    "        self.age = age\n",
    "        self.grade = grade\n",
    "\n",
    "s1 = Students(\"abc\",19,\"A\")\n",
    "\n",
    "print(s1.name)\n",
    "print(s1.age)\n",
    "print(s1.grade)"
   ]
  },
  {
   "cell_type": "markdown",
   "metadata": {},
   "source": [
    "### 02) Create a class named Bank_Account with Account_No, User_Name, Email,Account_Type and Account_Balance data members. Also create a method GetAccountDetails() and DisplayAccountDetails(). Create main method to demonstrate the Bank_Account class."
   ]
  },
  {
   "cell_type": "code",
   "execution_count": 7,
   "metadata": {},
   "outputs": [
    {
     "name": "stdout",
     "output_type": "stream",
     "text": [
      "Account_No :  123456\n",
      "User_Name :  abc\n",
      "Email :  abc2gmail.com\n",
      "Account_Type :  saving\n",
      "Account_Balance :  150000\n"
     ]
    }
   ],
   "source": [
    "class Bank_Account:\n",
    "    \n",
    "    def GetAccountDetail(self,Account_No, User_Name, Email, Account_Type, Account_Balance):\n",
    "        self.Account_No = Account_No\n",
    "        self.User_Name = User_Name\n",
    "        self.Email = Email\n",
    "        self.Account_Type = Account_Type\n",
    "        self.Account_Balance = Account_Balance\n",
    "    \n",
    "    def DisplayAccountDetail(self):\n",
    "        print(\"Account_No : \",self.Account_No)\n",
    "        print(\"User_Name : \",self.User_Name)\n",
    "        print(\"Email : \",self.Email)\n",
    "        print(\"Account_Type : \",self.Account_Type)\n",
    "        print(\"Account_Balance : \",self.Account_Balance)\n",
    "\n",
    "ba1 = Bank_Account()\n",
    "ba1.GetAccountDetail(123456,\"abc\",\"abc2gmail.com\",\"saving\", 150000)\n",
    "ba1.DisplayAccountDetail()\n",
    "    "
   ]
  },
  {
   "cell_type": "markdown",
   "metadata": {},
   "source": [
    "### 03) WAP to create Circle class with area and perimeter function to find area and perimeter of circle."
   ]
  },
  {
   "cell_type": "code",
   "execution_count": 8,
   "metadata": {},
   "outputs": [
    {
     "name": "stdout",
     "output_type": "stream",
     "text": [
      "Area of Circle :  78.53981633974483\n",
      "perimeter of Circle :  31.41592653589793\n"
     ]
    }
   ],
   "source": [
    "import math\n",
    "class Circle:\n",
    "    def area(self,r):\n",
    "        print(\"Area of Circle : \", (math.pi * r * r))\n",
    "\n",
    "    def perimeter(self,r):\n",
    "        print(\"perimeter of Circle : \", (2 * math.pi * r))\n",
    "\n",
    "c = Circle()\n",
    "c.area(5)\n",
    "c.perimeter(5)"
   ]
  },
  {
   "cell_type": "markdown",
   "metadata": {},
   "source": [
    "### 04) Create a class for employees that includes attributes such as name, age, salary, and methods to update and display employee information."
   ]
  },
  {
   "cell_type": "code",
   "execution_count": 9,
   "metadata": {},
   "outputs": [
    {
     "name": "stdout",
     "output_type": "stream",
     "text": [
      "name :  abc\n",
      "age :  29\n",
      "salary :  30000\n",
      "name :  abc\n",
      "age :  30\n",
      "salary :  30000\n"
     ]
    }
   ],
   "source": [
    "class Employee:\n",
    "    \n",
    "    def __init__(self,name, age, salary):\n",
    "        self.name = name\n",
    "        self.age = age\n",
    "        self.salary = salary\n",
    "    \n",
    "    def updateDetail(self,name, age, salary):\n",
    "        self.name = name\n",
    "        self.age = age\n",
    "        self.salary = salary\n",
    "\n",
    "    def displayDetail(self):\n",
    "        print(\"name : \",self.name)\n",
    "        print(\"age : \",self.age)\n",
    "        print(\"salary : \",self.salary)\n",
    "\n",
    "e = Employee(\"abc\", 29, 30000)\n",
    "e.displayDetail()\n",
    "e.updateDetail(\"abc\", 30 , 30000)\n",
    "e.displayDetail()\n"
   ]
  },
  {
   "cell_type": "markdown",
   "metadata": {},
   "source": [
    "### 05) Create a bank account class with methods to deposit, withdraw, and check balance."
   ]
  },
  {
   "cell_type": "code",
   "execution_count": 11,
   "metadata": {},
   "outputs": [
    {
     "name": "stdout",
     "output_type": "stream",
     "text": [
      "balance :  100\n",
      "insuffisent balance\n"
     ]
    }
   ],
   "source": [
    "class Bank_Account:\n",
    "    def __init__(self, balance):\n",
    "        self.balance = balance\n",
    "\n",
    "    def deposit(self, depositbalance):\n",
    "        self.balance += depositbalance\n",
    "\n",
    "    \n",
    "    def withdraw(self, withdrawbalance):\n",
    "        if self.balance < withdrawbalance:\n",
    "            print(\"insuffisent balance\")  \n",
    "        else:\n",
    "            self.balance -= withdrawbalance\n",
    "\n",
    "    def checkbalance(self):\n",
    "        print(\"balance : \",self.balance)\n",
    "\n",
    "ba1 = Bank_Account(1500)\n",
    "ba1.deposit(500)\n",
    "ba1.withdraw(1900)\n",
    "ba1.checkbalance()\n",
    "ba1.withdraw(500)"
   ]
  },
  {
   "cell_type": "markdown",
   "metadata": {},
   "source": [
    "### 06) Create a class for managing inventory that includes attributes such as item name, price, quantity, and methods to add, remove, and update items."
   ]
  },
  {
   "cell_type": "code",
   "execution_count": 22,
   "metadata": {},
   "outputs": [
    {
     "name": "stdout",
     "output_type": "stream",
     "text": [
      "Item Added\n",
      "Item Removed\n",
      "Item Updated\n"
     ]
    }
   ],
   "source": [
    "class Inventory:\n",
    "    basket = []\n",
    "\n",
    "    def addItem(self, name, price, quentity):\n",
    "        item = {\"name\" : name, \"price\" : price, \"quentity\" : quentity}\n",
    "        self.basket.append(item)\n",
    "        print(\"Item Added\")\n",
    "\n",
    "    def removeItem(self, name):\n",
    "        for i in self.basket:\n",
    "            if i[\"name\"] == name:\n",
    "                self.basket.remove(i)\n",
    "        print(\"Item Removed\")\n",
    "\n",
    "    def updateItem(self, name, quentity):\n",
    "        for i in self.basket:\n",
    "            if i[\"name\"] == name:\n",
    "                i[\"quentity\"] = quentity\n",
    "        print(\"Item Updated\")\n",
    "\n",
    "i = Inventory()\n",
    "i.addItem(\"abc\",150, 1)\n",
    "i.removeItem(\"abc\")\n",
    "i.updateItem(\"abc\", 2)"
   ]
  },
  {
   "cell_type": "markdown",
   "metadata": {},
   "source": [
    "### 07) Create a Class with instance attributes of your choice."
   ]
  },
  {
   "cell_type": "code",
   "execution_count": 12,
   "metadata": {},
   "outputs": [
    {
     "name": "stdout",
     "output_type": "stream",
     "text": [
      "abc\n",
      "19\n",
      "A\n",
      "20\n"
     ]
    }
   ],
   "source": [
    "class Students:\n",
    "    def __init__(self,name, age, grade):\n",
    "        self.name = name\n",
    "        self.age = age\n",
    "        self.grade = grade\n",
    "\n",
    "s1 = Students(\"abc\",19,\"A\")\n",
    "\n",
    "print(s1.name)\n",
    "print(s1.age)\n",
    "print(s1.grade)\n",
    "\n",
    "s1.age = 20\n",
    "\n",
    "print(s1.age)"
   ]
  },
  {
   "cell_type": "markdown",
   "metadata": {},
   "source": [
    "### 08) Create one class student_kit\n",
    "#### Within the student_kit class create one class attribute principal name ( Mr ABC )\n",
    "#### Create one attendance method and take input as number of days.\n",
    "#### While creating student take input their name .\n",
    "#### Create one certificate for each student by taking input of number of days present in class."
   ]
  },
  {
   "cell_type": "code",
   "execution_count": null,
   "metadata": {},
   "outputs": [],
   "source": [
    "class student_kit:\n",
    "    principal_name = \"Mr ABC\"\n",
    "    def  __init__(self, stuname):\n",
    "        self.name = stuname\n",
    "\n",
    "    def attendance(self,days):\n",
    "        self.days += days\n",
    "\n",
    "    def certificate(self):\n",
    "        print(\"\")"
   ]
  },
  {
   "cell_type": "markdown",
   "metadata": {},
   "source": [
    "### 09) Define Time class with hour and minute as data member. Also define addition method to add two time objects."
   ]
  },
  {
   "cell_type": "code",
   "execution_count": 15,
   "metadata": {},
   "outputs": [
    {
     "name": "stdout",
     "output_type": "stream",
     "text": [
      "Hour :  7\n",
      "Minute :  59\n"
     ]
    }
   ],
   "source": [
    "class Time:\n",
    "    def __init__(self, hour, min):\n",
    "        self.hour = hour\n",
    "        self.min = min\n",
    "\n",
    "    def addTime(self, a, b):\n",
    "        self.hour = a.hour + b.hour\n",
    "        self.min = a.min + b.min\n",
    "        if( self.min > 60):\n",
    "            self.hour += self.min // 60\n",
    "            self.min %= 60\n",
    "        \n",
    "    def displayTime(self):\n",
    "        print(\"Hour : \",self.hour)\n",
    "        print(\"Minute : \",self.min)\n",
    "\n",
    "\n",
    "t = Time(0,0)\n",
    "\n",
    "a = Time(2,60)\n",
    "b = Time(4,59)\n",
    "\n",
    "t.addTime(a,b)\n",
    "\n",
    "t.displayTime()"
   ]
  },
  {
   "cell_type": "code",
   "execution_count": null,
   "metadata": {},
   "outputs": [],
   "source": []
  }
 ],
 "metadata": {
  "kernelspec": {
   "display_name": "Python 3 (ipykernel)",
   "language": "python",
   "name": "python3"
  },
  "language_info": {
   "codemirror_mode": {
    "name": "ipython",
    "version": 3
   },
   "file_extension": ".py",
   "mimetype": "text/x-python",
   "name": "python",
   "nbconvert_exporter": "python",
   "pygments_lexer": "ipython3",
   "version": "3.12.4"
  }
 },
 "nbformat": 4,
 "nbformat_minor": 4
}
