{
 "cells": [
  {
   "cell_type": "markdown",
   "metadata": {},
   "source": [
    "<a href='https://www.darshan.ac.in/'> <img src='https://www.darshan.ac.in/Content/media/DU_Logo.svg' width=\"250\" height=\"300\"/></a>\n",
    "<pre>\n",
    "<center><b><h1>Python Programming - 2301CS404</b></center>\n",
    "<center><b><h1>Lab - 10</b></center>    \n",
    "<center><b><h1>Ida Gaurav R. | 24010101637</b></center>   \n",
    "<pre>"
   ]
  },
  {
   "cell_type": "markdown",
   "metadata": {},
   "source": [
    "# Exception Handling"
   ]
  },
  {
   "cell_type": "markdown",
   "metadata": {},
   "source": [
    "### 01) WAP to handle following exceptions:\n",
    "1. ZeroDivisionError\n",
    "2. ValueError\n",
    "3. TypeError\n",
    "#### Note: handle them using separate except blocks and also using single except block too."
   ]
  },
  {
   "cell_type": "code",
   "execution_count": 2,
   "metadata": {},
   "outputs": [
    {
     "name": "stdout",
     "output_type": "stream",
     "text": [
      "Can not Enter non-Integer Value\n"
     ]
    }
   ],
   "source": [
    "try:\n",
    "    n = int(input(\"Enter a Number:\"))\n",
    "    print(n/0)\n",
    "except ZeroDivisionError:\n",
    "    print(\"Can not divide any integer with Zero\")\n",
    "except ValueError:\n",
    "    print(\"Can not Enter non-Integer Value\")\n",
    "except TypeError:\n",
    "    print(\"There is a TypeError in your Code.\")"
   ]
  },
  {
   "cell_type": "markdown",
   "metadata": {},
   "source": [
    "### 02)  WAP to handle following exceptions:\n",
    "1. IndexError\n",
    "2. KeyError"
   ]
  },
  {
   "cell_type": "code",
   "execution_count": 4,
   "metadata": {},
   "outputs": [
    {
     "name": "stdout",
     "output_type": "stream",
     "text": [
      "Key does not exist\n"
     ]
    }
   ],
   "source": [
    "try:\n",
    "    n = {}\n",
    "    print(n[\"a\"])\n",
    "except IndexError:\n",
    "    print(\"Index out of bound Error\")\n",
    "except KeyError:\n",
    "    print(\"Key does not exist\")"
   ]
  },
  {
   "cell_type": "markdown",
   "metadata": {},
   "source": [
    "### 03) WAP to handle following exceptions:\n",
    "1. FileNotFoundError\n",
    "2. ModuleNotFoundError"
   ]
  },
  {
   "cell_type": "code",
   "execution_count": 5,
   "metadata": {},
   "outputs": [
    {
     "name": "stdout",
     "output_type": "stream",
     "text": [
      "Can font find the file\n"
     ]
    }
   ],
   "source": [
    "try:\n",
    "    fp = open(\"error.txt\",\"r\")\n",
    "except FileNotFoundError:\n",
    "    print(\"Can font find your given file\")\n",
    "except ModuleNotFoundError:\n",
    "    print(\"Can font find your given module\")"
   ]
  },
  {
   "cell_type": "markdown",
   "metadata": {},
   "source": [
    "### 04) WAP that catches all type of exceptions in a single except block."
   ]
  },
  {
   "cell_type": "code",
   "execution_count": 6,
   "metadata": {},
   "outputs": [
    {
     "name": "stdout",
     "output_type": "stream",
     "text": [
      "There is some type of error in your Code.\n"
     ]
    }
   ],
   "source": [
    "try:\n",
    "    n = {}\n",
    "    print(n[\"a\"])\n",
    "except Exception:\n",
    "    print(\"There is some type of error in your Code.\")"
   ]
  },
  {
   "cell_type": "markdown",
   "metadata": {},
   "source": [
    "### 05) WAP to demonstrate else  and finally block."
   ]
  },
  {
   "cell_type": "code",
   "execution_count": 7,
   "metadata": {},
   "outputs": [
    {
     "name": "stdout",
     "output_type": "stream",
     "text": [
      "There is some type of error in your Code.\n",
      "This will execute even if there is exception or not\n"
     ]
    }
   ],
   "source": [
    "try:\n",
    "    n = {}\n",
    "    print(n[\"a\"])\n",
    "except Exception:\n",
    "    print(\"There is some type of error in your Code.\")\n",
    "else:\n",
    "    print(\"No exception generated\")\n",
    "finally:\n",
    "    print(\"This will execute even if there is exception or not\")"
   ]
  },
  {
   "cell_type": "markdown",
   "metadata": {},
   "source": [
    "### 06) Create a short program that prompts the user for a list of grades separated by commas. \n",
    "### Split the string into individual grades and use a list comprehension to convert each string to an integer. \n",
    "### You should use a try statement to inform the user when the values they entered cannot be converted."
   ]
  },
  {
   "cell_type": "code",
   "execution_count": 11,
   "metadata": {},
   "outputs": [
    {
     "name": "stdout",
     "output_type": "stream",
     "text": [
      "Can not enter non-numaric charecters in a string\n"
     ]
    }
   ],
   "source": [
    "try:\n",
    "    n = input(\"Enter Marks with comma separated : \")\n",
    "    l = [int(i) for i in n.split(\",\")]\n",
    "    print(f\"Entered Marks in a List : {l}\")\n",
    "except ValueError:\n",
    "    print(\"Can not enter non-numaric charecters in a string\") "
   ]
  },
  {
   "cell_type": "markdown",
   "metadata": {},
   "source": [
    "### 07) WAP to create an udf divide(a,b) that handles ZeroDivisionError."
   ]
  },
  {
   "cell_type": "code",
   "execution_count": 14,
   "metadata": {},
   "outputs": [
    {
     "name": "stdout",
     "output_type": "stream",
     "text": [
      "can not Divide any integer by Zero\n"
     ]
    }
   ],
   "source": [
    "def divide(a,b):\n",
    "    try:\n",
    "        return a / b\n",
    "    except ZeroDivisionError:\n",
    "        print(\"can not Divide any integer by Zero\")\n",
    "\n",
    "divide(10,0)"
   ]
  },
  {
   "cell_type": "markdown",
   "metadata": {},
   "source": [
    "### 08) WAP that gets an age of a person form the user and raises ValueError with error message: \"Enter Valid Age\" :\n",
    "#### If the age is less than 18. \n",
    "#### otherwise print the age."
   ]
  },
  {
   "cell_type": "code",
   "execution_count": 16,
   "metadata": {},
   "outputs": [
    {
     "name": "stdout",
     "output_type": "stream",
     "text": [
      "age : 19\n"
     ]
    }
   ],
   "source": [
    "n = int(input(\"Enter Age : \"))\n",
    "\n",
    "try:\n",
    "    if n <= 18:\n",
    "        raise ValueError(\"Enter valid Age\")\n",
    "    else:\n",
    "        print(f\"age : {n}\")\n",
    "except ValueError as err:\n",
    "    print(err)"
   ]
  },
  {
   "cell_type": "markdown",
   "metadata": {},
   "source": [
    "### 09) WAP to raise your custom Exception named InvalidUsernameError with the error message : \"Username must be between 5 and 15 characters long\":\n",
    "#### if the given name is having characters less than 5 or greater than 15.\n",
    "#### otherwise print the given username."
   ]
  },
  {
   "cell_type": "code",
   "execution_count": 19,
   "metadata": {},
   "outputs": [
    {
     "name": "stdout",
     "output_type": "stream",
     "text": [
      "username : adfhyv'\n"
     ]
    }
   ],
   "source": [
    "class InvalidusernameError(Exception):\n",
    "    def __init__(self,msg = \"Invalid Username\"):\n",
    "        self.msg = msg\n",
    "\n",
    "n = input(\"Enter Username:\")\n",
    "\n",
    "if len(n)>5 and len(n)<15:\n",
    "    print(f\"username : {n}\")\n",
    "\n",
    "else:\n",
    "    raise InvalidusernameError(\"Username must be between 5 and 15 characters long\")"
   ]
  },
  {
   "cell_type": "markdown",
   "metadata": {},
   "source": [
    "### 10) WAP to raise your custom Exception named NegativeNumberError with the error message : \"Cannot calculate the square root of a negative number\" :\n",
    "#### if the given number is negative.\n",
    "#### otherwise print the square root of the given number."
   ]
  },
  {
   "cell_type": "code",
   "execution_count": 23,
   "metadata": {},
   "outputs": [
    {
     "name": "stdout",
     "output_type": "stream",
     "text": [
      "Squart of 4 is : 2.0\n"
     ]
    }
   ],
   "source": [
    "import math\n",
    "\n",
    "class NegativeNumberError(Exception):\n",
    "    def __init__(self,msg = \"Can't except negative number\"):\n",
    "        self.msg = msg\n",
    "\n",
    "n = int(input(\"Enter number:\"))\n",
    "\n",
    "if n >= 0:\n",
    "    print(f\"Squart of {n} is : {math.sqrt(n)}\")\n",
    "\n",
    "else:\n",
    "    raise NegativeNumberError(\"Cannot calculate the square root of a negative number\")\n"
   ]
  }
 ],
 "metadata": {
  "kernelspec": {
   "display_name": "Python 3",
   "language": "python",
   "name": "python3"
  },
  "language_info": {
   "codemirror_mode": {
    "name": "ipython",
    "version": 3
   },
   "file_extension": ".py",
   "mimetype": "text/x-python",
   "name": "python",
   "nbconvert_exporter": "python",
   "pygments_lexer": "ipython3",
   "version": "3.11.4"
  }
 },
 "nbformat": 4,
 "nbformat_minor": 4
}
