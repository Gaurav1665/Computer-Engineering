{
 "cells": [
  {
   "cell_type": "markdown",
   "metadata": {},
   "source": [
    "\n",
    "<a href='https://www.darshan.ac.in/'> <img src='https://www.darshan.ac.in/Content/media/DU_Logo.svg' width=\"250\" height=\"300\"/></a>\n",
    "<pre>\n",
    "<center><b><h1>Python Programming - 2301CS404</b></center>\n",
    "<center><b><h1>Lab - 4</b></center>    \n",
    "<pre>"
   ]
  },
  {
   "cell_type": "markdown",
   "metadata": {},
   "source": [
    "# String"
   ]
  },
  {
   "cell_type": "markdown",
   "metadata": {},
   "source": [
    "### 01) WAP to check whether the given string is palindrome or not."
   ]
  },
  {
   "cell_type": "code",
   "execution_count": null,
   "metadata": {},
   "outputs": [],
   "source": [
    "str = input(\"Enter String:\")\n",
    "\n",
    "rev = str[::-1]\n",
    "\n",
    "if str==rev:\n",
    "    print(f\"{str} is a palindrome\")\n",
    "else:\n",
    "    print(f\"{str} is not a palindrome\")"
   ]
  },
  {
   "cell_type": "markdown",
   "metadata": {},
   "source": [
    "### 02) WAP to reverse the words in the given string."
   ]
  },
  {
   "cell_type": "code",
   "execution_count": 6,
   "metadata": {},
   "outputs": [
    {
     "name": "stdout",
     "output_type": "stream",
     "text": [
      "gaurav am i \n"
     ]
    }
   ],
   "source": [
    "str = input(\"Enter String:\")\n",
    "\n",
    "ans = \"\"\n",
    "\n",
    "# reverce individual words\n",
    "# for i in str.split(\" \"):\n",
    "#     ans += i[::-1] + \" \"\n",
    "\n",
    "#reverce sequence of words\n",
    "for i in str.split(\" \")[::-1]:\n",
    "    ans += i + \" \"\n",
    "\n",
    "print(ans)"
   ]
  },
  {
   "cell_type": "markdown",
   "metadata": {},
   "source": [
    "### 03) WAP to remove ith character from given string."
   ]
  },
  {
   "cell_type": "code",
   "execution_count": 7,
   "metadata": {},
   "outputs": [
    {
     "name": "stdout",
     "output_type": "stream",
     "text": [
      "garav\n"
     ]
    }
   ],
   "source": [
    "str = input(\"Enter String:\")\n",
    "i = int(input(\"Enter ith position:\"))\n",
    "\n",
    "ans = str[:i-1] + str[i:]\n",
    "\n",
    "print(ans)"
   ]
  },
  {
   "cell_type": "markdown",
   "metadata": {},
   "source": [
    "### 04) WAP to find length of string without using len function."
   ]
  },
  {
   "cell_type": "code",
   "execution_count": 8,
   "metadata": {},
   "outputs": [
    {
     "name": "stdout",
     "output_type": "stream",
     "text": [
      "6\n"
     ]
    }
   ],
   "source": [
    "str = input(\"Enter String:\")\n",
    "count = 0\n",
    "for i in str:\n",
    "    count += 1\n",
    "\n",
    "print(count)"
   ]
  },
  {
   "cell_type": "markdown",
   "metadata": {},
   "source": [
    "### 05) WAP to print even length word in string."
   ]
  },
  {
   "cell_type": "code",
   "execution_count": 13,
   "metadata": {},
   "outputs": [
    {
     "name": "stdout",
     "output_type": "stream",
     "text": [
      "as\n",
      "fdsg\n"
     ]
    }
   ],
   "source": [
    "str = input(\"Enter String:\")\n",
    "\n",
    "for i in str.split(\" \"):\n",
    "    if len(i) % 2 == 0: \n",
    "        print(i)"
   ]
  },
  {
   "cell_type": "markdown",
   "metadata": {},
   "source": [
    "### 06) WAP to count numbers of vowels in given string."
   ]
  },
  {
   "cell_type": "code",
   "execution_count": 4,
   "metadata": {},
   "outputs": [
    {
     "name": "stdout",
     "output_type": "stream",
     "text": [
      "3\n"
     ]
    }
   ],
   "source": [
    "str = input(\"Enter String:\")\n",
    "\n",
    "vowels = ['a','e','i','o','u']\n",
    "\n",
    "count = 0\n",
    "\n",
    "for i in str:\n",
    "    if i.lower()=='a' or i.lower()=='e' or i.lower()=='i' or i.lower()=='o' or i.lower()=='u':\n",
    "        count += 1\n",
    "\n",
    "print(count)"
   ]
  },
  {
   "cell_type": "markdown",
   "metadata": {},
   "source": [
    "### 07) WAP to capitalize the first and last character of each word in a string."
   ]
  },
  {
   "cell_type": "code",
   "execution_count": 7,
   "metadata": {},
   "outputs": [
    {
     "name": "stdout",
     "output_type": "stream",
     "text": [
      "GauraV \n"
     ]
    }
   ],
   "source": [
    "str = input(\"Enter String:\")\n",
    "\n",
    "ans = \"\"\n",
    "\n",
    "for i in str.split(\" \"):\n",
    "    ans += i.capitalize()[:len(i)-1] + i[len(i)-1].upper() + \" \"\n",
    "\n",
    "print(ans)"
   ]
  },
  {
   "cell_type": "markdown",
   "metadata": {},
   "source": [
    "### 08) WAP to convert given array to string."
   ]
  },
  {
   "cell_type": "code",
   "execution_count": 9,
   "metadata": {},
   "outputs": [
    {
     "name": "stdout",
     "output_type": "stream",
     "text": [
      "i am gaurav \n"
     ]
    }
   ],
   "source": [
    "str = ['i' , 'am' , \"gaurav\"]\n",
    "\n",
    "ans = \"\"\n",
    "\n",
    "for i in str:\n",
    "    ans += i + \" \"\n",
    "\n",
    "print(ans)"
   ]
  },
  {
   "cell_type": "markdown",
   "metadata": {},
   "source": [
    "### 09) Check if the password and confirm password is same or not. \n",
    "### In case of only case's mistake, show the error message."
   ]
  },
  {
   "cell_type": "code",
   "execution_count": null,
   "metadata": {},
   "outputs": [],
   "source": [
    "password = input(\"Enter Password:\")\n",
    "conferPassword = input(\"Enter Conform Password:\")\n",
    "\n",
    "if password == conferPassword:\n",
    "    print(\"Password Matched\")\n",
    "else:\n",
    "    if password.lower() == conferPassword.lower():\n",
    "        print(\"Error : case does not match of the given confirm password\")\n",
    "    else:\n",
    "        print(\"Password does not match\")"
   ]
  },
  {
   "cell_type": "markdown",
   "metadata": {},
   "source": [
    "### 10) : Display credit card number. \n",
    "### card no. : 1234 5678 9012 3456\n",
    "### display as  : **** **** **** 3456"
   ]
  },
  {
   "cell_type": "code",
   "execution_count": 10,
   "metadata": {},
   "outputs": [
    {
     "name": "stdout",
     "output_type": "stream",
     "text": [
      "**** **** ****  1234\n"
     ]
    }
   ],
   "source": [
    "str = input(\"Enter credit card number:\")\n",
    "\n",
    "if len(str)!=19:\n",
    "    print(\"Invalid card number\")\n",
    "else:\n",
    "    arr = str.split(\" \")\n",
    "    print(\"**** **** **** \",arr[len(arr)-1])"
   ]
  },
  {
   "cell_type": "markdown",
   "metadata": {},
   "source": [
    "### 11) : Checking if the two strings are Anagram or not.\n",
    "### s1 = decimal and s2 = medical are Anagram"
   ]
  },
  {
   "cell_type": "code",
   "execution_count": 11,
   "metadata": {},
   "outputs": [
    {
     "name": "stdout",
     "output_type": "stream",
     "text": [
      "Anagram\n"
     ]
    }
   ],
   "source": [
    "str1 = input(\"Enter orignal String:\")\n",
    "str2 = input(\"Enter anagram String:\")\n",
    "\n",
    "if sorted(str1) == sorted(str2):\n",
    "    print(\"Anagram\")\n",
    "else:\n",
    "    print(\"Not an Anagram\")"
   ]
  },
  {
   "cell_type": "markdown",
   "metadata": {},
   "source": [
    "### 12) : Rearrange the given string. First lowercase then uppercase alphabets.\n",
    "### input : EHlsarwiwhtwMV\n",
    "### output : lsarwiwhtwEHMV"
   ]
  },
  {
   "cell_type": "code",
   "execution_count": 12,
   "metadata": {},
   "outputs": [
    {
     "name": "stdout",
     "output_type": "stream",
     "text": [
      "arvGUA\n"
     ]
    }
   ],
   "source": [
    "str = input(\"Enter String:\")\n",
    "\n",
    "low = \"\"\n",
    "high = \"\"\n",
    "\n",
    "for i in str:\n",
    "    if i.islower():\n",
    "        low += i\n",
    "    else:\n",
    "        high += i\n",
    "\n",
    "print(low + high)"
   ]
  }
 ],
 "metadata": {
  "kernelspec": {
   "display_name": "Python 3 (ipykernel)",
   "language": "python",
   "name": "python3"
  },
  "language_info": {
   "codemirror_mode": {
    "name": "ipython",
    "version": 3
   },
   "file_extension": ".py",
   "mimetype": "text/x-python",
   "name": "python",
   "nbconvert_exporter": "python",
   "pygments_lexer": "ipython3",
   "version": "3.11.4"
  },
  "vscode": {
   "interpreter": {
    "hash": "31f2aee4e71d21fbe5cf8b01ff0e069b9275f58929596ceb00d14d90e3e16cd6"
   }
  }
 },
 "nbformat": 4,
 "nbformat_minor": 4
}
