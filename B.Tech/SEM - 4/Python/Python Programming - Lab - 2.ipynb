{
 "cells": [
  {
   "cell_type": "markdown",
   "metadata": {},
   "source": [
    "\n",
    "<a href='https://www.darshan.ac.in/'> <img src='https://www.darshan.ac.in/Content/media/DU_Logo.svg' width=\"250\" height=\"300\"/></a>\n",
    "<pre>\n",
    "<center><b><h1>Python Programming - 2301CS404</b></center>\n",
    "<center><b><h1>Lab - 2</b></center>    \n",
    "<pre>"
   ]
  },
  {
   "cell_type": "markdown",
   "metadata": {},
   "source": [
    "# if..else.."
   ]
  },
  {
   "cell_type": "markdown",
   "metadata": {},
   "source": [
    "### 01) WAP to check whether the given number is positive or negative."
   ]
  },
  {
   "cell_type": "code",
   "execution_count": null,
   "metadata": {},
   "outputs": [],
   "source": [
    "n = int(input(\"Enter number : \"))\n",
    "\n",
    "if n>0:\n",
    "    print(\"Number is positive\")\n",
    "    \n",
    "else:\n",
    "    print(\"Number is negative\")"
   ]
  },
  {
   "cell_type": "markdown",
   "metadata": {},
   "source": [
    "### 02) WAP to check whether the given number is odd or even."
   ]
  },
  {
   "cell_type": "code",
   "execution_count": null,
   "metadata": {},
   "outputs": [],
   "source": [
    "n = int(input(\"Enter number : \"))\n",
    "\n",
    "if n%2==0:\n",
    "    print(\"Number is Even\")\n",
    "    \n",
    "else:\n",
    "    print(\"Number is Odd\")"
   ]
  },
  {
   "cell_type": "markdown",
   "metadata": {},
   "source": [
    "### 03) WAP to find out largest number from given two numbers using simple if and ternary operator."
   ]
  },
  {
   "cell_type": "code",
   "execution_count": null,
   "metadata": {},
   "outputs": [],
   "source": [
    "a = int(input(\"Enter value of A : \"))\n",
    "b = int(input(\"Enter value of B : \"))\n",
    "\n",
    "print(\"Using simple if...else\")\n",
    "\n",
    "if a>b:\n",
    "    print(a,\" is largest number\")\n",
    "    \n",
    "else:\n",
    "    print(b,\" is largest number\")\n",
    "\n",
    "\n",
    "print(\"Using ternary operator\")\n",
    "\n",
    "print(\"largest number is \",a if a>b else b)"
   ]
  },
  {
   "cell_type": "markdown",
   "metadata": {},
   "source": [
    "### 04) WAP to find out largest number from given three numbers."
   ]
  },
  {
   "cell_type": "code",
   "execution_count": null,
   "metadata": {},
   "outputs": [],
   "source": [
    "a = int(input(\"Enter value of A : \"))\n",
    "b = int(input(\"Enter value of B : \"))\n",
    "c = int(input(\"Enter value of C : \"))\n",
    "\n",
    "print(\"Using simple if...else\")\n",
    "\n",
    "if a>b:\n",
    "    if a>c:\n",
    "        print(a,\" is largest number\")\n",
    "    else:\n",
    "        print(c,\" is largest number\")\n",
    "    \n",
    "else:\n",
    "    if b>c:\n",
    "        print(b,\" is largest number\")\n",
    "    else:\n",
    "        print(c,\" is largest number\")\n",
    "\n",
    "print(\"Using ternary operator\")\n",
    "\n",
    "print(\"largest number is \",a if a>c else c if a>b else b if b>c else c)"
   ]
  },
  {
   "cell_type": "markdown",
   "metadata": {},
   "source": [
    "### 05) WAP to check whether the given year is leap year or not.\n",
    "[If a year can be divisible by 4 but not divisible by 100 then it is leap year but if it is divisible by 400 then it is leap year]"
   ]
  },
  {
   "cell_type": "code",
   "execution_count": 2,
   "metadata": {},
   "outputs": [
    {
     "name": "stdout",
     "output_type": "stream",
     "text": [
      "1680  is leap year\n"
     ]
    }
   ],
   "source": [
    "n = int(input(\"Enter year : \"))\n",
    "\n",
    "if (n%4==0 and n%100!=0)or(n%400==0):\n",
    "    print(n,\" is leap year\")\n",
    "    \n",
    "else:\n",
    "    print(n,\" is not leap year\")"
   ]
  },
  {
   "cell_type": "markdown",
   "metadata": {},
   "source": [
    "### 06) WAP in python to display the name of the day according to the number given by the user."
   ]
  },
  {
   "cell_type": "code",
   "execution_count": null,
   "metadata": {},
   "outputs": [],
   "source": [
    "n = int(input(\"Enter day : \"))\n",
    "\n",
    "match(n):\n",
    "    case 1:\n",
    "        print(\"Monday\")\n",
    "\n",
    "    case 2:\n",
    "        print(\"Tuesday\")\n",
    "    \n",
    "    case 3:\n",
    "        print(\"Wednesday\")\n",
    "\n",
    "    case 4:\n",
    "        print(\"Thursday\")\n",
    "\n",
    "    case 5:\n",
    "        print(\"Friday\")\n",
    "    \n",
    "    case 6:\n",
    "        print(\"Saturday\")\n",
    "\n",
    "    case 7:\n",
    "        print(\"Sunday\")\n",
    "    \n",
    "    case _:\n",
    "        print(\"Invalid input\")"
   ]
  },
  {
   "cell_type": "markdown",
   "metadata": {},
   "source": [
    "### 07) WAP to implement simple calculator which performs (add,sub,mul,div) of two no. based on user input."
   ]
  },
  {
   "cell_type": "code",
   "execution_count": null,
   "metadata": {},
   "outputs": [
    {
     "name": "stdout",
     "output_type": "stream",
     "text": [
      "5 * 9 = 45\n"
     ]
    }
   ],
   "source": [
    "a = int(input(\"Enter value of A : \"))\n",
    "b = int(input(\"Enter value of B : \"))\n",
    "operation = input(\"Enter ant one opration (+,-,*,/) :\")\n",
    "\n",
    "match(operation):\n",
    "    case \"+\":\n",
    "        print(f\"{a} + {b} = {a + b}\")\n",
    "\n",
    "    case \"-\":\n",
    "        print(f\"{a} - {b} = {a - b}\")\n",
    "\n",
    "    case \"*\":\n",
    "        print(f\"{a} * {b} = {a * b}\")\n",
    "\n",
    "    case \"/\":\n",
    "        print(f\"{a} / {b} = {a / b}\")\n",
    "        \n",
    "    case _:\n",
    "        print(\"Invalid operation\")"
   ]
  },
  {
   "cell_type": "markdown",
   "metadata": {},
   "source": [
    "### 08) WAP to read marks of five subjects. Calculate percentage and print class accordingly. \n",
    "Fail below 35 </br>\n",
    "Pass Class between 35 to 45 </br>\n",
    "Second Class</br>\n",
    "between 45 to 60</br>\n",
    "First Class between 60 to 70</br> \n",
    "Distinction if more than 70"
   ]
  },
  {
   "cell_type": "code",
   "execution_count": null,
   "metadata": {},
   "outputs": [
    {
     "name": "stdout",
     "output_type": "stream",
     "text": [
      "First Class\n"
     ]
    }
   ],
   "source": [
    "sum = 0\n",
    "for i in range(0,5):\n",
    "    sum += int(input(\"sub marks :\"))\n",
    "\n",
    "percentage = (sum/500) * 100\n",
    "print(\"Percentage : \",percentage)\n",
    "\n",
    "if percentage < 35 :\n",
    "    print(\"Fail\")\n",
    "\n",
    "elif percentage >= 35 and percentage < 45 :\n",
    "    print(\"Pass Class\")\n",
    "\n",
    "elif percentage >= 45 and percentage < 60 :\n",
    "    print(\"Second Class\")\n",
    "\n",
    "elif percentage >= 60 and percentage < 70 :\n",
    "    print(\"First Class\")\n",
    "\n",
    "elif percentage >= 70 :\n",
    "    print(\"Distinction\")"
   ]
  },
  {
   "cell_type": "markdown",
   "metadata": {},
   "source": [
    "### 09) Three sides of a triangle are entered through the keyboard, WAP to check whether the triangle is isosceles, equilateral, scalene or right-angled triangle."
   ]
  },
  {
   "cell_type": "code",
   "execution_count": 17,
   "metadata": {},
   "outputs": [
    {
     "name": "stdout",
     "output_type": "stream",
     "text": [
      "Triangle is Right-Angled triangle\n"
     ]
    }
   ],
   "source": [
    "h = int(input(\"Enter Hypotenuse : \"))\n",
    "o = int(input(\"Enter Opposite : \"))\n",
    "b = int(input(\"Enter Base:\"))\n",
    "\n",
    "\n",
    "\n",
    "if h==o==b:\n",
    "    print(\"Triangle is Equilateral triangle\")\n",
    "\n",
    "else:\n",
    "    if h==o :\n",
    "        print(\"Triangle is Isosceles triangle\")\n",
    "    \n",
    "    elif h!=o!=b:\n",
    "        if (o*o) + (b*b) == (h*h):\n",
    "            print(\"Triangle is Right-Angled triangle\")\n",
    "        else:\n",
    "            print(\"Triangle is Scalene triangle\")\n",
    "\n",
    "    "
   ]
  },
  {
   "cell_type": "markdown",
   "metadata": {},
   "source": [
    "### 10) WAP to find the second largest number among three user input numbers."
   ]
  },
  {
   "cell_type": "code",
   "execution_count": 23,
   "metadata": {},
   "outputs": [
    {
     "name": "stdout",
     "output_type": "stream",
     "text": [
      "2  is second largest number\n"
     ]
    }
   ],
   "source": [
    "a = int(input(\"Enter value of A : \"))\n",
    "b = int(input(\"Enter value of B : \"))\n",
    "c = int(input(\"Enter value of C : \"))\n",
    "\n",
    "if (a>b and a<c) or (a<b and a>c):\n",
    "    print(a,\" is second largest number\")\n",
    "\n",
    "elif (b>a and b<c) or (b<a and b>c):\n",
    "    print(b,\" is second largest number\")\n",
    "\n",
    "else:\n",
    "    print(c,\" is second largest number\")\n"
   ]
  },
  {
   "cell_type": "markdown",
   "metadata": {},
   "source": [
    "### 11) WAP to calculate electricity bill based on following criteria. Which takes the unit from the user.\n",
    "a. First 1 to 50 units – Rs. 2.60/unit</br>\n",
    "b. Next 50 to 100 units – Rs. 3.25/unit</br>\n",
    "c. Next 100 to 200 units – Rs. 5.26/unit</br>\n",
    "d. above 200 units – Rs. 8.45/unit"
   ]
  },
  {
   "cell_type": "code",
   "execution_count": 29,
   "metadata": {},
   "outputs": [
    {
     "name": "stdout",
     "output_type": "stream",
     "text": [
      "Total cost :  2317.9\n"
     ]
    }
   ],
   "source": [
    "unit = float(input(\"Enter Unit : \"))\n",
    "\n",
    "cost = 0\n",
    "\n",
    "while unit>0:\n",
    "    if unit >= 1 and unit < 50:\n",
    "        cost += 2.60 * unit\n",
    "        unit -= 50\n",
    "\n",
    "    elif unit >= 50 and unit < 100:\n",
    "        cost += 3.25 * unit\n",
    "        unit -= 50\n",
    "\n",
    "    elif unit >= 100 and unit < 200:\n",
    "        cost += 5.26 * unit\n",
    "        unit -= 100\n",
    "\n",
    "    elif unit >= 200:\n",
    "        cost += 8.45 * unit\n",
    "        unit -= 200\n",
    "\n",
    "print(\"Total cost : \",cost)"
   ]
  }
 ],
 "metadata": {
  "kernelspec": {
   "display_name": "Python 3",
   "language": "python",
   "name": "python3"
  },
  "language_info": {
   "codemirror_mode": {
    "name": "ipython",
    "version": 3
   },
   "file_extension": ".py",
   "mimetype": "text/x-python",
   "name": "python",
   "nbconvert_exporter": "python",
   "pygments_lexer": "ipython3",
   "version": "3.11.4"
  }
 },
 "nbformat": 4,
 "nbformat_minor": 4
}
