{
 "cells": [
  {
   "cell_type": "markdown",
   "metadata": {},
   "source": [
    "<a href='https://www.darshan.ac.in/'> <img src='https://www.darshan.ac.in/Content/media/DU_Logo.svg' width=\"250\" height=\"300\"/></a>\n",
    "<pre>\n",
    "<center><b><h1>Python Programming - 2301CS404</b></center>\n",
    "<center><b><h1>Lab - 1</b></center>    \n",
    "<center><b><h1>Ida Gaurav R. | 24010101637</b></center>    \n",
    "<pre>"
   ]
  },
  {
   "cell_type": "markdown",
   "metadata": {},
   "source": [
    "### 01) WAP to print “Hello World”"
   ]
  },
  {
   "cell_type": "code",
   "execution_count": 2,
   "metadata": {},
   "outputs": [
    {
     "name": "stdout",
     "output_type": "stream",
     "text": [
      "Hello World\n"
     ]
    }
   ],
   "source": [
    "print(\"Hello World\")"
   ]
  },
  {
   "cell_type": "markdown",
   "metadata": {},
   "source": [
    "### 02) WAP to print addition of two numbers with and without using input()."
   ]
  },
  {
   "cell_type": "code",
   "execution_count": 3,
   "metadata": {},
   "outputs": [
    {
     "name": "stdout",
     "output_type": "stream",
     "text": [
      "10 + 20 = 30\n"
     ]
    }
   ],
   "source": [
    "a = 10 \n",
    "b = 20\n",
    "print(f\"{a} + {b} = {a+b}\")"
   ]
  },
  {
   "cell_type": "markdown",
   "metadata": {},
   "source": [
    "### 03) WAP to check the type of the variable."
   ]
  },
  {
   "cell_type": "code",
   "execution_count": 4,
   "metadata": {},
   "outputs": [
    {
     "name": "stdout",
     "output_type": "stream",
     "text": [
      "20 : <class 'int'>\n",
      "2.4 : <class 'float'>\n",
      "True : <class 'bool'>\n"
     ]
    }
   ],
   "source": [
    "c = 2.4 \n",
    "d = True\n",
    "print(f\"{b} : {type(b)}\")\n",
    "print(f\"{c} : {type(c)}\")\n",
    "print(f\"{d} : {type(d)}\")"
   ]
  },
  {
   "cell_type": "markdown",
   "metadata": {},
   "source": [
    "### 04) WAP to calculate simple interest."
   ]
  },
  {
   "cell_type": "code",
   "execution_count": 5,
   "metadata": {},
   "outputs": [
    {
     "name": "stdout",
     "output_type": "stream",
     "text": [
      "Simple interest :  10.58\n"
     ]
    }
   ],
   "source": [
    "p = int(input(\"Enter Principal\"))\n",
    "r = int(input(\"Enter Rate of Interest\"))\n",
    "t = int(input(\"Enter Time Period\"))\n",
    "\n",
    "print(\"Simple interest : \",((p*r*t)/100))"
   ]
  },
  {
   "cell_type": "markdown",
   "metadata": {},
   "source": [
    "### 05) WAP to calculate area and perimeter of a circle."
   ]
  },
  {
   "cell_type": "code",
   "execution_count": 6,
   "metadata": {},
   "outputs": [
    {
     "name": "stdout",
     "output_type": "stream",
     "text": [
      "perimeter :  188.57142857142856\n",
      "Area :  2828.5714285714284\n"
     ]
    }
   ],
   "source": [
    "radius = float(input(\"Enter radius\"))\n",
    "\n",
    "print(f\"perimeter : \",(2 * (22/7) * radius ))\n",
    "\n",
    "print(f\"Area : \",((22/7) * radius * radius ))"
   ]
  },
  {
   "cell_type": "markdown",
   "metadata": {},
   "source": [
    "### 06) WAP to calculate area of a triangle."
   ]
  },
  {
   "cell_type": "code",
   "execution_count": 7,
   "metadata": {},
   "outputs": [
    {
     "name": "stdout",
     "output_type": "stream",
     "text": [
      "Area :  6.0\n"
     ]
    }
   ],
   "source": [
    "base = float(input(\"Enter Base:\"))\n",
    "\n",
    "height = float(input(\"Enter Height:\"))\n",
    "\n",
    "print(f\"Area : \",((1/2) * base * height ))"
   ]
  },
  {
   "cell_type": "markdown",
   "metadata": {},
   "source": [
    "### 07) WAP to compute quotient and remainder."
   ]
  },
  {
   "cell_type": "code",
   "execution_count": 8,
   "metadata": {},
   "outputs": [
    {
     "name": "stdout",
     "output_type": "stream",
     "text": [
      "Quotient :  0.3333333333333333\n",
      "Remainder :  2\n"
     ]
    }
   ],
   "source": [
    "a = int(input(\"Enter a\"))\n",
    "\n",
    "b = int(input(\"Enter b\"))\n",
    "\n",
    "print(\"Quotient : \",(a/b))\n",
    "\n",
    "print(\"Remainder : \",(a%b))"
   ]
  },
  {
   "cell_type": "markdown",
   "metadata": {},
   "source": [
    "### 08) WAP to convert degree into Fahrenheit and vice versa."
   ]
  },
  {
   "cell_type": "code",
   "execution_count": 9,
   "metadata": {},
   "outputs": [
    {
     "name": "stdout",
     "output_type": "stream",
     "text": [
      "Fahrenheit :  113.0\n",
      "Celsius :  7.222222222222222\n"
     ]
    }
   ],
   "source": [
    "celsius = float(input(\"Enter Celsius:\"))\n",
    "\n",
    "print(f\"Fahrenheit : \",(celsius * (9/5) + 32 ))\n",
    "\n",
    "fahrenheit = float(input(\"Enter Fahrenheit:\"))\n",
    "\n",
    "print(f\"Celsius : \",((fahrenheit - 32) * (5/9)))"
   ]
  },
  {
   "cell_type": "markdown",
   "metadata": {},
   "source": [
    "### 09) WAP to find the distance between two points in 2-D space."
   ]
  },
  {
   "cell_type": "code",
   "execution_count": 12,
   "metadata": {},
   "outputs": [
    {
     "name": "stdout",
     "output_type": "stream",
     "text": [
      "Distance between (10.0, 1.0) and (20.0, 2.0) : 4.69041575982343\n"
     ]
    }
   ],
   "source": [
    "import math\n",
    "x1 = float(input(\"Enter value of X1:\"))\n",
    "y1 = float(input(\"Enter value of Y1:\"))\n",
    "\n",
    "x2 = float(input(\"Enter value of X2:\"))\n",
    "y2 = float(input(\"Enter value of Y2:\"))\n",
    "\n",
    "print(f\"Distance between {x1,y1} and {x2,y2} : {math.sqrt((x2-x1)*2 + (y2-y1)*2)}\")"
   ]
  },
  {
   "cell_type": "markdown",
   "metadata": {},
   "source": [
    "### 10) WAP to print sum of n natural numbers."
   ]
  },
  {
   "cell_type": "code",
   "execution_count": 13,
   "metadata": {},
   "outputs": [
    {
     "name": "stdout",
     "output_type": "stream",
     "text": [
      "Sum of 0 natural number : 15\n"
     ]
    }
   ],
   "source": [
    "n = int(input(\"Enter N:\"))\n",
    "sum = 0\n",
    "while n>0:\n",
    "    sum = sum + n\n",
    "    n-=1\n",
    "\n",
    "print(f\"Sum of {n} natural number : {sum}\")"
   ]
  },
  {
   "cell_type": "markdown",
   "metadata": {},
   "source": [
    "### 11) WAP to print sum of square of n natural numbers."
   ]
  },
  {
   "cell_type": "code",
   "execution_count": 14,
   "metadata": {},
   "outputs": [
    {
     "name": "stdout",
     "output_type": "stream",
     "text": [
      "Sum of 0 natural number : 55\n"
     ]
    }
   ],
   "source": [
    "n = int(input(\"Enter N:\"))\n",
    "sum = 0\n",
    "while n>0:\n",
    "    sum = sum + (n*n)\n",
    "    n-=1\n",
    "\n",
    "print(f\"Sum of {n} natural number : {sum}\")"
   ]
  },
  {
   "cell_type": "markdown",
   "metadata": {},
   "source": [
    "### 12) WAP to concate the first and last name of the student."
   ]
  },
  {
   "cell_type": "code",
   "execution_count": 15,
   "metadata": {},
   "outputs": [
    {
     "name": "stdout",
     "output_type": "stream",
     "text": [
      "Full Name : Ida Gaurav\n"
     ]
    }
   ],
   "source": [
    "first = input(\"First Name\")\n",
    "last = input(\"Last Name\")\n",
    "\n",
    "name = first + \" \" + last\n",
    "\n",
    "print(\"Full Name :\",name)"
   ]
  },
  {
   "cell_type": "markdown",
   "metadata": {},
   "source": [
    "### 13) WAP to swap two numbers."
   ]
  },
  {
   "cell_type": "code",
   "execution_count": 16,
   "metadata": {},
   "outputs": [
    {
     "name": "stdout",
     "output_type": "stream",
     "text": [
      "Value of A and B Before swap\n",
      "A = 10\n",
      "B = 20\n",
      "Value of A and B After swap\n",
      "A = 20\n",
      "B = 10\n"
     ]
    }
   ],
   "source": [
    "a = int(input(\"Enter a:\"))\n",
    "b = int(input(\"Enter b:\"))\n",
    "\n",
    "print(\"Value of A and B Before swap\")\n",
    "print(\"A =\", a)\n",
    "print(\"B =\", b)\n",
    "\n",
    "temp = a\n",
    "a = b\n",
    "b = temp\n",
    "\n",
    "print(\"Value of A and B After swap\")\n",
    "print(\"A =\", a)\n",
    "print(\"B =\", b)"
   ]
  },
  {
   "cell_type": "markdown",
   "metadata": {},
   "source": [
    "### 14) WAP to get the distance from user into kilometer, and convert it into meter, feet, inches and centimeter."
   ]
  },
  {
   "cell_type": "code",
   "execution_count": 17,
   "metadata": {},
   "outputs": [
    {
     "name": "stdout",
     "output_type": "stream",
     "text": [
      "Meter :  10000.0\n",
      "feet :  32808.4\n",
      "inche :  393700.80000000005\n",
      "centimeter :  1000000.0\n"
     ]
    }
   ],
   "source": [
    "km = float(input(\"Enter Kilometer : \"))\n",
    "\n",
    "print(\"Meter : \",(km * 1000))\n",
    "\n",
    "print(\"feet : \",(km * 3280.84))\n",
    "\n",
    "print(\"inche : \",(km * 39370.08))\n",
    "\n",
    "print(\"centimeter : \",(km * 100000))"
   ]
  },
  {
   "cell_type": "markdown",
   "metadata": {},
   "source": [
    "### 15) WAP to get day, month and year from the user and print the date in the given format: 23-11-2024."
   ]
  },
  {
   "cell_type": "code",
   "execution_count": 18,
   "metadata": {},
   "outputs": [
    {
     "name": "stdout",
     "output_type": "stream",
     "text": [
      "31-1-2006\n"
     ]
    }
   ],
   "source": [
    "day =  int(input(\"Enter Day : \"))\n",
    "\n",
    "month = int(input(\"Enter Month : \"))\n",
    "\n",
    "year = int(input(\"Enter Year : \"))\n",
    "\n",
    "print(day,month,year,sep=\"-\")"
   ]
  }
 ],
 "metadata": {
  "kernelspec": {
   "display_name": "Python 3",
   "language": "python",
   "name": "python3"
  },
  "language_info": {
   "codemirror_mode": {
    "name": "ipython",
    "version": 3
   },
   "file_extension": ".py",
   "mimetype": "text/x-python",
   "name": "python",
   "nbconvert_exporter": "python",
   "pygments_lexer": "ipython3",
   "version": "3.11.9"
  }
 },
 "nbformat": 4,
 "nbformat_minor": 4
}
